{
  "cells": [
    {
      "cell_type": "markdown",
      "metadata": {
        "id": "view-in-github",
        "colab_type": "text"
      },
      "source": [
        "<a href=\"https://colab.research.google.com/github/maxmussavian/euler-spiral/blob/main/euler_curves.ipynb\" target=\"_parent\"><img src=\"https://colab.research.google.com/assets/colab-badge.svg\" alt=\"Open In Colab\"/></a>"
      ]
    },
    {
      "cell_type": "code",
      "execution_count": 50,
      "id": "29646b48-9784-4144-9925-8a49118dc887",
      "metadata": {
        "id": "29646b48-9784-4144-9925-8a49118dc887"
      },
      "outputs": [],
      "source": [
        "import sympy as spy\n",
        "from matplotlib import pyplot as plt\n",
        "import scipy.integrate as integrate\n",
        "import numpy as np"
      ]
    },
    {
      "cell_type": "code",
      "execution_count": 51,
      "id": "bbf8ac7c-8626-4e69-a5a3-1f306e8e0018",
      "metadata": {
        "id": "bbf8ac7c-8626-4e69-a5a3-1f306e8e0018"
      },
      "outputs": [],
      "source": [
        "t, s = spy.symbols('t s')"
      ]
    },
    {
      "cell_type": "code",
      "execution_count": 52,
      "id": "34797866-12eb-4278-abec-b96b59dd37e7",
      "metadata": {
        "id": "34797866-12eb-4278-abec-b96b59dd37e7"
      },
      "outputs": [],
      "source": [
        "def x_func(lower, upper, func):\n",
        "  def integrand(t):\n",
        "    return np.cos(func(t))\n",
        "  result, _ = integrate.quad(integrand, lower, upper)\n",
        "  return result"
      ]
    },
    {
      "cell_type": "code",
      "execution_count": 53,
      "id": "5696eb42-8533-4845-bbcb-506ed5b4e274",
      "metadata": {
        "id": "5696eb42-8533-4845-bbcb-506ed5b4e274"
      },
      "outputs": [],
      "source": [
        "def y_func(lower, upper, func):\n",
        "  def integrand(t):\n",
        "    return np.sin(func(t))\n",
        "  result, _ = integrate.quad(integrand, lower, upper)\n",
        "  return result"
      ]
    },
    {
      "cell_type": "code",
      "execution_count": 54,
      "metadata": {
        "id": "dSj5LY8JFXYW"
      },
      "outputs": [],
      "source": [
        "def x_y_coordinates(delta_x, delta_y, func, s_steps):\n",
        "  x_values_pos = np.cumsum([delta_x(l, u, func) for l, u in zip(s_steps[:-1], s_steps[1:])])  \n",
        "  y_values_pos = np.cumsum([delta_y(l, u, func) for l, u in zip(s_steps[:-1], s_steps[1:])])\n",
        "  x_values_neg = np.flip(np.cumsum([delta_x(l, u, func) for l, u in zip(-s_steps[:-1], -s_steps[1:])]))\n",
        "  y_values_neg = np.flip(np.cumsum([delta_y(l, u, func) for l, u in zip(-s_steps[:-1], -s_steps[1:])]))\n",
        "\n",
        "#  x_values_pos = np.asarray([delta_x(l, u, func) for l, u in zip(s_steps[:-1], s_steps[1:])])  \n",
        "#  y_values_pos = np.asarray([delta_y(l, u, func) for l, u in zip(s_steps[:-1], s_steps[1:])])\n",
        "#  x_values_neg = np.flip(np.asarray([delta_x(l, u, func) for l, u in zip(-s_steps[:-1], -s_steps[1:])]))\n",
        "#  y_values_neg = np.flip(np.asarray([delta_y(l, u, func) for l, u in zip(-s_steps[:-1], -s_steps[1:])]))\n",
        "\n",
        "  return (\n",
        "     np.concatenate([np.flip(-s_steps[1:]), s_steps[1:]]),\n",
        "     np.concatenate([x_values_neg, x_values_pos]), \n",
        "     np.concatenate([y_values_neg, y_values_pos])\n",
        "  ) "
      ],
      "id": "dSj5LY8JFXYW"
    },
    {
      "cell_type": "code",
      "execution_count": 55,
      "id": "f542c715-07c0-4b18-a83c-189407a098a8",
      "metadata": {
        "id": "f542c715-07c0-4b18-a83c-189407a098a8"
      },
      "outputs": [],
      "source": [
        "start = 1e-6\n",
        "end = 10\n",
        "steps = 500\n",
        "s_steps = np.linspace(start, end, steps)"
      ]
    },
    {
      "cell_type": "markdown",
      "source": [
        "# Euler Spiral"
      ],
      "metadata": {
        "id": "_XdMqIU85hqH"
      },
      "id": "_XdMqIU85hqH"
    },
    {
      "cell_type": "code",
      "execution_count": 56,
      "id": "0e980edb-cc89-4163-98dd-553cc450ad00",
      "metadata": {
        "id": "0e980edb-cc89-4163-98dd-553cc450ad00",
        "colab": {
          "base_uri": "https://localhost:8080/",
          "height": 54
        },
        "outputId": "6e742852-7bf0-425a-a947-1dbd38f283df"
      },
      "outputs": [
        {
          "output_type": "execute_result",
          "data": {
            "text/plain": [
              "s**2/2"
            ],
            "text/latex": "$\\displaystyle \\frac{s^{2}}{2}$"
          },
          "metadata": {},
          "execution_count": 56
        }
      ],
      "source": [
        "k = s\n",
        "spy.integrate(k, s)"
      ]
    },
    {
      "cell_type": "code",
      "execution_count": 57,
      "id": "56462631-91d6-4f72-b3ce-cc175e0879b6",
      "metadata": {
        "id": "56462631-91d6-4f72-b3ce-cc175e0879b6"
      },
      "outputs": [],
      "source": [
        "def func_euler(x):\n",
        "    return 0.5 * np.power(x, 2)"
      ]
    },
    {
      "cell_type": "code",
      "source": [
        "arc_length, x_coord, y_coord = x_y_coordinates(x_func, y_func, func_euler, s_steps)"
      ],
      "metadata": {
        "id": "2Z945YFYGn08"
      },
      "id": "2Z945YFYGn08",
      "execution_count": 58,
      "outputs": []
    },
    {
      "cell_type": "code",
      "execution_count": 59,
      "id": "e9144fc8-31f7-466f-a639-e5cb5e316e90",
      "metadata": {
        "colab": {
          "base_uri": "https://localhost:8080/",
          "height": 282
        },
        "id": "e9144fc8-31f7-466f-a639-e5cb5e316e90",
        "outputId": "11c38c53-c43b-45bf-cf0e-6a0531f9091d"
      },
      "outputs": [
        {
          "output_type": "display_data",
          "data": {
            "text/plain": [
              "<Figure size 432x288 with 1 Axes>"
            ],
            "image/png": "[encoded data removed]"
          },
          "metadata": {
            "needs_background": "light"
          }
        }
      ],
      "source": [
        "fig, ax = plt.subplots(1, 1)\n",
        "ax.plot(arc_length, x_coord, 'b', label='x_coordinate')\n",
        "ax.plot(arc_length, y_coord, 'g', label='y_coordiante')\n",
        "ax.set_xlabel('arc length')\n",
        "ax.set_ylabel('coordindate')\n",
        "_ = ax.legend()"
      ]
    },
    {
      "cell_type": "code",
      "execution_count": 60,
      "id": "73cb038c-1966-4e7c-a845-16b3c9ed7aca",
      "metadata": {
        "colab": {
          "base_uri": "https://localhost:8080/",
          "height": 265
        },
        "id": "73cb038c-1966-4e7c-a845-16b3c9ed7aca",
        "outputId": "f23c1fed-5383-4559-d281-bb9c29034b74"
      },
      "outputs": [
        {
          "output_type": "display_data",
          "data": {
            "text/plain": [
              "<Figure size 432x288 with 1 Axes>"
            ],
            "image/png": "[encoded data removed]"
          },
          "metadata": {
            "needs_background": "light"
          }
        }
      ],
      "source": [
        "fig, ax = plt.subplots(1, 1)\n",
        "ax.plot(x_coord, y_coord, 'b')\n",
        "ax.set_aspect('equal')\n",
        "ax.grid()"
      ]
    },
    {
      "cell_type": "code",
      "execution_count": 61,
      "id": "06215881-1b68-4800-8f4b-09f2d3d6fc70",
      "metadata": {
        "id": "06215881-1b68-4800-8f4b-09f2d3d6fc70",
        "colab": {
          "base_uri": "https://localhost:8080/"
        },
        "outputId": "611e5ddc-0b37-4e85-f593-1509987dfa69"
      },
      "outputs": [
        {
          "output_type": "execute_result",
          "data": {
            "text/plain": [
              "array([-0.85903276, -0.84034849, -0.8234576 , -0.80902793, -0.79762586,\n",
              "       -0.789695  , -0.78553993, -0.78531566, -0.78902312, -0.79651064,\n",
              "       -0.80748133, -0.82150606, -0.83804118, -0.85645049, -0.87603041,\n",
              "       -0.89603732, -0.91571603, -0.93432832, -0.95118037, -0.96564824,\n",
              "       -0.97720024, -0.98541572, -0.98999938, -0.99079078, -0.98776889,\n",
              "       -0.9810513 , -0.97088863, -0.95765399, -0.94182842, -0.92398244,\n",
              "       -0.9047549 , -0.88482953, -0.86491036, -0.84569673, -0.82785887,\n",
              "       -0.81201482, -0.79870956, -0.78839692, -0.78142492, -0.77802502,\n",
              "       -0.77830543, -0.78224879, -0.78971405, -0.80044263, -0.8140683 ,\n",
              "       -0.83013061, -0.84809121, -0.86735252, -0.88727805, -0.90721374,\n",
              "       -0.92650949, -0.9445403 , -0.96072618, -0.97455038, -0.98557525,\n",
              "       -0.9934554 , -0.99794761, -0.99891741, -0.99634212, -0.99031028,\n",
              "       -0.98101769, -0.96876006, -0.95392279, -0.93696802, -0.91841962,\n",
              "       -0.89884651, -0.87884481, -0.8590195 , -0.83996613, -0.82225303,\n",
              "       -0.8064047 , -0.79288666, -0.78209246, -0.77433284, -0.76982764,\n",
              "       -0.76870042, -0.77097599, -0.77658084, -0.78534644, -0.7970151 ,\n",
              "       -0.81124845, -0.8276379 , -0.84571703, -0.8649754 , -0.88487328,\n",
              "       -0.90485704, -0.92437466, -0.94289088, -0.9599017 , -0.97494776,\n",
              "       -0.98762625, -0.99760116, -1.00461147, -1.00847723, -1.0091034 ,\n",
              "       -1.00648129, -1.00068778, -0.99188224, -0.98030135, -0.96625199,\n",
              "       -0.95010247, -0.93227229, -0.91322074, -0.89343474, -0.87341612,\n",
              "       -0.85366882, -0.83468618, -0.81693878, -0.80086302, -0.78685076,\n",
              "       -0.7752403 , -0.76630869, -0.76026585, -0.75725028, -0.75732667,\n",
              "       -0.76048529, -0.76664315, -0.77564695, -0.78727756, -0.80125606,\n",
              "       -0.81725101, -0.83488682, -0.85375303, -0.87341419, -0.89342016,\n",
              "       -0.91331652, -0.93265494, -0.95100318, -0.96795453, -0.9831366 ,\n",
              "       -0.99621903, -1.00692027, -1.01501306, -1.0203287 , -1.02275987,\n",
              "       -1.02226215, -1.01885411, -1.01261607, -1.00368752, -0.99226343,\n",
              "       -0.97858935, -0.96295561, -0.94569068, -0.92715386, -0.90772745,\n",
              "       -0.8878087 , -0.86780147, -0.84810799, -0.82912086, -0.81121529,\n",
              "       -0.79474192, -0.78002025, -0.76733282, -0.75692019, -0.74897688,\n",
              "       -0.74364829, -0.74102862, -0.74115975, -0.74403128, -0.74958141,\n",
              "       -0.75769889, -0.76822579, -0.78096111, -0.79566511, -0.81206427,\n",
              "       -0.82985676, -0.84871832, -0.86830844, -0.88827668, -0.90826903,\n",
              "       -0.92793426, -0.94693001, -0.96492866, -0.98162279, -0.99673016,\n",
              "       -1.0099982 , -1.02120786, -1.03017676, -1.03676179, -1.04086083,\n",
              "       -1.04241385, -1.04140324, -1.03785346, -1.03182997, -1.02343757,\n",
              "       -1.01281801, -1.00014724, -0.98563201, -0.96950613, -0.95202635,\n",
              "       -0.93346802, -0.91412048, -0.89428239, -0.87425701, -0.85434748,\n",
              "       -0.83485226, -0.81606071, -0.79824891, -0.78167576, -0.76657949,\n",
              "       -0.75317446, -0.74164846, -0.73216041, -0.72483858, -0.71977924,\n",
              "       -0.71704586, -0.71666874, -0.71864513, -0.72293987, -0.72948638,\n",
              "       -0.73818812, -0.74892043, -0.76153265, -0.77585064, -0.79167949,\n",
              "       -0.80880644, -0.82700401, -0.84603324, -0.86564695, -0.88559312,\n",
              "       -0.90561817, -0.92547023, -0.94490227, -0.96367512, -0.98156032,\n",
              "       -0.99834273, -1.01382297, -1.02781953, -1.04017064, -1.05073589,\n",
              "       -1.0593975 , -1.06606131, -1.07065743, -1.07314064, -1.07349044,\n",
              "       -1.07171084, -1.06782985, -1.06189873, -1.05399096, -1.04420102,\n",
              "       -1.03264292, -1.0194486 , -1.00476616, -0.9887579 , -0.97159835,\n",
              "       -0.95347214, -0.93457186, -0.91509589, -0.89524619, -0.87522617,\n",
              "       -0.85523856, -0.83548332, -0.81615574, -0.79744451, -0.77953   ,\n",
              "       -0.76258264, -0.74676143, -0.73221265, -0.7190687 , -0.70744707,\n",
              "       -0.6974496 , -0.68916176, -0.68265227, -0.67797272, -0.67515754,\n",
              "       -0.67422397, -0.67517229, -0.67798617, -0.68263319, -0.68906543,\n",
              "       -0.69722022, -0.70702104, -0.71837843, -0.73119106, -0.74534684,\n",
              "       -0.76072408, -0.77719274, -0.79461566, -0.81284988, -0.83174789,\n",
              "       -0.85115893, -0.87093027, -0.89090848, -0.91094063, -0.93087548,\n",
              "       -0.95056459, -0.96986343, -0.98863234, -1.00673752, -1.02405185,\n",
              "       -1.04045569, -1.05583757, -1.07009486, -1.08313421, -1.09487209,\n",
              "       -1.10523507, -1.11416016, -1.12159495, -1.12749772, -1.1318375 ,\n",
              "       -1.13459399, -1.13575744, -1.13532845, -1.13331774, -1.12974579,\n",
              "       -1.1246425 , -1.11804673, -1.11000586, -1.10057528, -1.0898178 ,\n",
              "       -1.07780312, -1.0646072 , -1.05031167, -1.03500317, -1.01877271,\n",
              "       -1.00171501, -0.98392791, -0.96551164, -0.94656825, -0.92720095,\n",
              "       -0.90751353, -0.88760974, -0.86759274, -0.84756455, -0.82762555,\n",
              "       -0.80787395, -0.78840537, -0.7693124 , -0.75068421, -0.73260617,\n",
              "       -0.71515957, -0.69842126, -0.68246346, -0.6673535 , -0.65315365,\n",
              "       -0.63992096, -0.62770713, -0.61655845, -0.60651572, -0.59761422,\n",
              "       -0.58988373, -0.58334857, -0.57802762, -0.57393442, -0.57107728,\n",
              "       -0.56945939, -0.56907898, -0.56992948, -0.57199967, -0.57527391,\n",
              "       -0.57973231, -0.585351  , -0.59210227, -0.5999549 , -0.60887431,\n",
              "       -0.61882288, -0.62976014, -0.64164304, -0.65442621, -0.6680622 ,\n",
              "       -0.68250172, -0.69769389, -0.71358648, -0.73012616, -0.7472587 ,\n",
              "       -0.76492921, -0.78308236, -0.80166257, -0.82061425, -0.83988193,\n",
              "       -0.8594105 , -0.87914535, -0.89903254, -0.91901895, -0.93905245,\n",
              "       -0.95908196, -0.97905767, -0.99893107, -1.01865511, -1.03818425,\n",
              "       -1.05747455, -1.07648377, -1.09517141, -1.11349876, -1.13142895,\n",
              "       -1.14892701, -1.16595985, -1.18249633, -1.19850722, -1.21396527,\n",
              "       -1.22884515, -1.24312347, -1.25677876, -1.26979146, -1.28214388,\n",
              "       -1.29382017, -1.30480631, -1.31509003, -1.32466082, -1.33350984,\n",
              "       -1.34162987, -1.34901532, -1.35566209, -1.36156758, -1.36673061,\n",
              "       -1.37115134, -1.37483126, -1.37777307, -1.37998068, -1.38145909,\n",
              "       -1.38221437, -1.38225357, -1.3815847 , -1.38021661, -1.37815897,\n",
              "       -1.37542222, -1.37201746, -1.36795645, -1.36325153, -1.35791555,\n",
              "       -1.35196185, -1.34540416, -1.33825661, -1.33053363, -1.32224993,\n",
              "       -1.31342046, -1.30406034, -1.29418484, -1.28380932, -1.27294922,\n",
              "       -1.26162001, -1.24983715, -1.23761607, -1.22497211, -1.21192054,\n",
              "       -1.1984765 , -1.18465496, -1.17047076, -1.15593849, -1.14107257,\n",
              "       -1.12588718, -1.11039622, -1.09461336, -1.07855197, -1.06222513,\n",
              "       -1.04564562, -1.02882589, -1.0117781 , -0.99451404, -0.97704519,\n",
              "       -0.95938268, -0.94153729, -0.92351945, -0.90533924, -0.88700638,\n",
              "       -0.86853026, -0.84991988, -0.83118391, -0.81233067, -0.79336811,\n",
              "       -0.77430387, -0.75514522, -0.7358991 , -0.71657212, -0.69717056,\n",
              "       -0.67770038, -0.65816722, -0.63857642, -0.61893302, -0.59924174,\n",
              "       -0.57950704, -0.55973309, -0.53992379, -0.52008277, -0.50021341,\n",
              "       -0.48031885, -0.46040198, -0.44046546, -0.42051174, -0.40054306,\n",
              "       -0.38056145, -0.36056875, -0.34056661, -0.32055653, -0.30053982,\n",
              "       -0.28051764, -0.26049101, -0.24046083, -0.22042785, -0.2003927 ,\n",
              "       -0.18035593, -0.16031798, -0.14027919, -0.12023984, -0.10020014,\n",
              "       -0.08016023, -0.06012021, -0.04008015, -0.02004008,  0.02004008,\n",
              "        0.04008015,  0.06012021,  0.08016023,  0.10020014,  0.12023984,\n",
              "        0.14027919,  0.16031798,  0.18035593,  0.2003927 ,  0.22042785,\n",
              "        0.24046083,  0.26049101,  0.28051764,  0.30053982,  0.32055653,\n",
              "        0.34056661,  0.36056875,  0.38056145,  0.40054306,  0.42051174,\n",
              "        0.44046546,  0.46040198,  0.48031885,  0.50021341,  0.52008277,\n",
              "        0.53992379,  0.55973309,  0.57950704,  0.59924174,  0.61893302,\n",
              "        0.63857642,  0.65816722,  0.67770038,  0.69717056,  0.71657212,\n",
              "        0.7358991 ,  0.75514522,  0.77430387,  0.79336811,  0.81233067,\n",
              "        0.83118391,  0.84991988,  0.86853026,  0.88700638,  0.90533924,\n",
              "        0.92351945,  0.94153729,  0.95938268,  0.97704519,  0.99451404,\n",
              "        1.0117781 ,  1.02882589,  1.04564562,  1.06222513,  1.07855197,\n",
              "        1.09461336,  1.11039622,  1.12588718,  1.14107257,  1.15593849,\n",
              "        1.17047076,  1.18465496,  1.1984765 ,  1.21192054,  1.22497211,\n",
              "        1.23761607,  1.24983715,  1.26162001,  1.27294922,  1.28380932,\n",
              "        1.29418484,  1.30406034,  1.31342046,  1.32224993,  1.33053363,\n",
              "        1.33825661,  1.34540416,  1.35196185,  1.35791555,  1.36325153,\n",
              "        1.36795645,  1.37201746,  1.37542222,  1.37815897,  1.38021661,\n",
              "        1.3815847 ,  1.38225357,  1.38221437,  1.38145909,  1.37998068,\n",
              "        1.37777307,  1.37483126,  1.37115134,  1.36673061,  1.36156758,\n",
              "        1.35566209,  1.34901532,  1.34162987,  1.33350984,  1.32466082,\n",
              "        1.31509003,  1.30480631,  1.29382017,  1.28214388,  1.26979146,\n",
              "        1.25677876,  1.24312347,  1.22884515,  1.21396527,  1.19850722,\n",
              "        1.18249633,  1.16595985,  1.14892701,  1.13142895,  1.11349876,\n",
              "        1.09517141,  1.07648377,  1.05747455,  1.03818425,  1.01865511,\n",
              "        0.99893107,  0.97905767,  0.95908196,  0.93905245,  0.91901895,\n",
              "        0.89903254,  0.87914535,  0.8594105 ,  0.83988193,  0.82061425,\n",
              "        0.80166257,  0.78308236,  0.76492921,  0.7472587 ,  0.73012616,\n",
              "        0.71358648,  0.69769389,  0.68250172,  0.6680622 ,  0.65442621,\n",
              "        0.64164304,  0.62976014,  0.61882288,  0.60887431,  0.5999549 ,\n",
              "        0.59210227,  0.585351  ,  0.57973231,  0.57527391,  0.57199967,\n",
              "        0.56992948,  0.56907898,  0.56945939,  0.57107728,  0.57393442,\n",
              "        0.57802762,  0.58334857,  0.58988373,  0.59761422,  0.60651572,\n",
              "        0.61655845,  0.62770713,  0.63992096,  0.65315365,  0.6673535 ,\n",
              "        0.68246346,  0.69842126,  0.71515957,  0.73260617,  0.75068421,\n",
              "        0.7693124 ,  0.78840537,  0.80787395,  0.82762555,  0.84756455,\n",
              "        0.86759274,  0.88760974,  0.90751353,  0.92720095,  0.94656825,\n",
              "        0.96551164,  0.98392791,  1.00171501,  1.01877271,  1.03500317,\n",
              "        1.05031167,  1.0646072 ,  1.07780312,  1.0898178 ,  1.10057528,\n",
              "        1.11000586,  1.11804673,  1.1246425 ,  1.12974579,  1.13331774,\n",
              "        1.13532845,  1.13575744,  1.13459399,  1.1318375 ,  1.12749772,\n",
              "        1.12159495,  1.11416016,  1.10523507,  1.09487209,  1.08313421,\n",
              "        1.07009486,  1.05583757,  1.04045569,  1.02405185,  1.00673752,\n",
              "        0.98863234,  0.96986343,  0.95056459,  0.93087548,  0.91094063,\n",
              "        0.89090848,  0.87093027,  0.85115893,  0.83174789,  0.81284988,\n",
              "        0.79461566,  0.77719274,  0.76072408,  0.74534684,  0.73119106,\n",
              "        0.71837843,  0.70702104,  0.69722022,  0.68906543,  0.68263319,\n",
              "        0.67798617,  0.67517229,  0.67422397,  0.67515754,  0.67797272,\n",
              "        0.68265227,  0.68916176,  0.6974496 ,  0.70744707,  0.7190687 ,\n",
              "        0.73221265,  0.74676143,  0.76258264,  0.77953   ,  0.79744451,\n",
              "        0.81615574,  0.83548332,  0.85523856,  0.87522617,  0.89524619,\n",
              "        0.91509589,  0.93457186,  0.95347214,  0.97159835,  0.9887579 ,\n",
              "        1.00476616,  1.0194486 ,  1.03264292,  1.04420102,  1.05399096,\n",
              "        1.06189873,  1.06782985,  1.07171084,  1.07349044,  1.07314064,\n",
              "        1.07065743,  1.06606131,  1.0593975 ,  1.05073589,  1.04017064,\n",
              "        1.02781953,  1.01382297,  0.99834273,  0.98156032,  0.96367512,\n",
              "        0.94490227,  0.92547023,  0.90561817,  0.88559312,  0.86564695,\n",
              "        0.84603324,  0.82700401,  0.80880644,  0.79167949,  0.77585064,\n",
              "        0.76153265,  0.74892043,  0.73818812,  0.72948638,  0.72293987,\n",
              "        0.71864513,  0.71666874,  0.71704586,  0.71977924,  0.72483858,\n",
              "        0.73216041,  0.74164846,  0.75317446,  0.76657949,  0.78167576,\n",
              "        0.79824891,  0.81606071,  0.83485226,  0.85434748,  0.87425701,\n",
              "        0.89428239,  0.91412048,  0.93346802,  0.95202635,  0.96950613,\n",
              "        0.98563201,  1.00014724,  1.01281801,  1.02343757,  1.03182997,\n",
              "        1.03785346,  1.04140324,  1.04241385,  1.04086083,  1.03676179,\n",
              "        1.03017676,  1.02120786,  1.0099982 ,  0.99673016,  0.98162279,\n",
              "        0.96492866,  0.94693001,  0.92793426,  0.90826903,  0.88827668,\n",
              "        0.86830844,  0.84871832,  0.82985676,  0.81206427,  0.79566511,\n",
              "        0.78096111,  0.76822579,  0.75769889,  0.74958141,  0.74403128,\n",
              "        0.74115975,  0.74102862,  0.74364829,  0.74897688,  0.75692019,\n",
              "        0.76733282,  0.78002025,  0.79474192,  0.81121529,  0.82912086,\n",
              "        0.84810799,  0.86780147,  0.8878087 ,  0.90772745,  0.92715386,\n",
              "        0.94569068,  0.96295561,  0.97858935,  0.99226343,  1.00368752,\n",
              "        1.01261607,  1.01885411,  1.02226215,  1.02275987,  1.0203287 ,\n",
              "        1.01501306,  1.00692027,  0.99621903,  0.9831366 ,  0.96795453,\n",
              "        0.95100318,  0.93265494,  0.91331652,  0.89342016,  0.87341419,\n",
              "        0.85375303,  0.83488682,  0.81725101,  0.80125606,  0.78727756,\n",
              "        0.77564695,  0.76664315,  0.76048529,  0.75732667,  0.75725028,\n",
              "        0.76026585,  0.76630869,  0.7752403 ,  0.78685076,  0.80086302,\n",
              "        0.81693878,  0.83468618,  0.85366882,  0.87341612,  0.89343474,\n",
              "        0.91322074,  0.93227229,  0.95010247,  0.96625199,  0.98030135,\n",
              "        0.99188224,  1.00068778,  1.00648129,  1.0091034 ,  1.00847723,\n",
              "        1.00461147,  0.99760116,  0.98762625,  0.97494776,  0.9599017 ,\n",
              "        0.94289088,  0.92437466,  0.90485704,  0.88487328,  0.8649754 ,\n",
              "        0.84571703,  0.8276379 ,  0.81124845,  0.7970151 ,  0.78534644,\n",
              "        0.77658084,  0.77097599,  0.76870042,  0.76982764,  0.77433284,\n",
              "        0.78209246,  0.79288666,  0.8064047 ,  0.82225303,  0.83996613,\n",
              "        0.8590195 ,  0.87884481,  0.89884651,  0.91841962,  0.93696802,\n",
              "        0.95392279,  0.96876006,  0.98101769,  0.99031028,  0.99634212,\n",
              "        0.99891741,  0.99794761,  0.9934554 ,  0.98557525,  0.97455038,\n",
              "        0.96072618,  0.9445403 ,  0.92650949,  0.90721374,  0.88727805,\n",
              "        0.86735252,  0.84809121,  0.83013061,  0.8140683 ,  0.80044263,\n",
              "        0.78971405,  0.78224879,  0.77830543,  0.77802502,  0.78142492,\n",
              "        0.78839692,  0.79870956,  0.81201482,  0.82785887,  0.84569673,\n",
              "        0.86491036,  0.88482953,  0.9047549 ,  0.92398244,  0.94182842,\n",
              "        0.95765399,  0.97088863,  0.9810513 ,  0.98776889,  0.99079078,\n",
              "        0.98999938,  0.98541572,  0.97720024,  0.96564824,  0.95118037,\n",
              "        0.93432832,  0.91571603,  0.89603732,  0.87603041,  0.85645049,\n",
              "        0.83804118,  0.82150606,  0.80748133,  0.79651064,  0.78902312,\n",
              "        0.78531566,  0.78553993,  0.789695  ,  0.79762586,  0.80902793,\n",
              "        0.8234576 ,  0.84034849,  0.85903276])"
            ]
          },
          "metadata": {},
          "execution_count": 61
        }
      ],
      "source": [
        "  x_coord"
      ]
    },
    {
      "cell_type": "markdown",
      "source": [
        "# New section"
      ],
      "metadata": {
        "id": "37UDxTUX7whJ"
      },
      "id": "37UDxTUX7whJ"
    },
    {
      "cell_type": "code",
      "source": [
        "k = s ** 2 - 2.19\n",
        "spy.integrate(k, s)"
      ],
      "metadata": {
        "colab": {
          "base_uri": "https://localhost:8080/",
          "height": 39
        },
        "id": "Ldp4UC_P74Me",
        "outputId": "7f83858e-478b-490f-c348-92c8789e3f9c"
      },
      "id": "Ldp4UC_P74Me",
      "execution_count": 62,
      "outputs": [
        {
          "output_type": "execute_result",
          "data": {
            "text/plain": [
              "0.333333333333333*s**3 - 2.19*s"
            ],
            "text/latex": "$\\displaystyle 0.333333333333333 s^{3} - 2.19 s$"
          },
          "metadata": {},
          "execution_count": 62
        }
      ]
    },
    {
      "cell_type": "code",
      "source": [
        "def func_2(x):\n",
        "  return np.power(x, 3) / 3. - 2.19 * x"
      ],
      "metadata": {
        "id": "OMBgrlx6769y"
      },
      "id": "OMBgrlx6769y",
      "execution_count": 63,
      "outputs": []
    },
    {
      "cell_type": "code",
      "source": [
        "arc_length, x_coord, y_coord = x_y_coordinates(x_func, y_func, func_2, s_steps)"
      ],
      "metadata": {
        "id": "VberT8PIKkBT"
      },
      "execution_count": 64,
      "outputs": [],
      "id": "VberT8PIKkBT"
    },
    {
      "cell_type": "code",
      "execution_count": 65,
      "metadata": {
        "colab": {
          "base_uri": "https://localhost:8080/",
          "height": 279
        },
        "outputId": "0867f431-9c05-49e8-901b-612f7cd4eae0",
        "id": "sv3zJOPMKkBY"
      },
      "outputs": [
        {
          "output_type": "display_data",
          "data": {
            "text/plain": [
              "<Figure size 432x288 with 1 Axes>"
            ],
            "image/png": "[encoded data removed]"
          },
          "metadata": {
            "needs_background": "light"
          }
        }
      ],
      "source": [
        "fig, ax = plt.subplots(1, 1)\n",
        "ax.plot(arc_length, x_coord, 'b', label='x_coordinate')\n",
        "ax.plot(arc_length, y_coord, 'g', label='y_coordiante')\n",
        "ax.set_xlabel('arc length')\n",
        "ax.set_ylabel('coordindate')\n",
        "_ = ax.legend()"
      ],
      "id": "sv3zJOPMKkBY"
    },
    {
      "cell_type": "code",
      "source": [
        "fig, ax = plt.subplots(1, 1)\n",
        "ax.plot(x_coord, y_coord, 'b')\n",
        "ax.set_aspect('equal')\n",
        "ax.grid()"
      ],
      "metadata": {
        "colab": {
          "base_uri": "https://localhost:8080/",
          "height": 265
        },
        "id": "rWo7ovdWK6_l",
        "outputId": "1f4d3e35-d754-45e8-f6c8-0e88cf5fe60c"
      },
      "id": "rWo7ovdWK6_l",
      "execution_count": 66,
      "outputs": [
        {
          "output_type": "display_data",
          "data": {
            "text/plain": [
              "<Figure size 432x288 with 1 Axes>"
            ],
            "image/png": "[encoded data removed]"
          },
          "metadata": {
            "needs_background": "light"
          }
        }
      ]
    },
    {
      "cell_type": "markdown",
      "source": [
        "# Function 3"
      ],
      "metadata": {
        "id": "0BsOFJVZbmJ6"
      },
      "id": "0BsOFJVZbmJ6"
    },
    {
      "cell_type": "code",
      "source": [
        "k = 5 * s ** 4 - 18 * s ** 2 + 5\n",
        "spy.integrate(k, s)"
      ],
      "metadata": {
        "colab": {
          "base_uri": "https://localhost:8080/",
          "height": 39
        },
        "id": "GzH2bOMSL2az",
        "outputId": "b165b1fc-cced-401f-9d30-373466bc911d"
      },
      "id": "GzH2bOMSL2az",
      "execution_count": 67,
      "outputs": [
        {
          "output_type": "execute_result",
          "data": {
            "text/plain": [
              "s**5 - 6*s**3 + 5*s"
            ],
            "text/latex": "$\\displaystyle s^{5} - 6 s^{3} + 5 s$"
          },
          "metadata": {},
          "execution_count": 67
        }
      ]
    },
    {
      "cell_type": "code",
      "source": [
        "def func_3(x):\n",
        "  return np.power(x, 5) - 6. * np.power(x, 3) + 5 * x"
      ],
      "metadata": {
        "id": "BCQx55ZbMBif"
      },
      "id": "BCQx55ZbMBif",
      "execution_count": 68,
      "outputs": []
    },
    {
      "cell_type": "code",
      "source": [
        "arc_length, x_coord, y_coord = x_y_coordinates(x_func, y_func, func_3, s_steps)"
      ],
      "metadata": {
        "id": "dna0I_d-MNBQ",
        "colab": {
          "base_uri": "https://localhost:8080/"
        },
        "outputId": "14a7c889-5dce-4ff5-dfc0-d0e3a7991f87"
      },
      "id": "dna0I_d-MNBQ",
      "execution_count": null,
      "outputs": [
        {
          "output_type": "stream",
          "name": "stderr",
          "text": [
            "/usr/local/lib/python3.7/dist-packages/ipykernel_launcher.py:4: IntegrationWarning: The maximum number of subdivisions (50) has been achieved.\n",
            "  If increasing the limit yields no improvement it is advised to analyze \n",
            "  the integrand in order to determine the difficulties.  If the position of a \n",
            "  local difficulty can be determined (singularity, discontinuity) one will \n",
            "  probably gain from splitting up the interval and calling the integrator \n",
            "  on the subranges.  Perhaps a special-purpose integrator should be used.\n",
            "  after removing the cwd from sys.path.\n",
            "/usr/local/lib/python3.7/dist-packages/ipykernel_launcher.py:4: IntegrationWarning: The integral is probably divergent, or slowly convergent.\n",
            "  after removing the cwd from sys.path.\n"
          ]
        }
      ]
    },
    {
      "cell_type": "code",
      "source": [
        "fig, ax = plt.subplots(1, 1)\n",
        "ax.plot(x_coord, y_coord, 'b')\n",
        "ax.set_aspect('equal')\n",
        "ax.grid()"
      ],
      "metadata": {
        "id": "HWuJZ_i-MQeV"
      },
      "id": "HWuJZ_i-MQeV",
      "execution_count": null,
      "outputs": []
    },
    {
      "cell_type": "markdown",
      "source": [
        "# Exponential"
      ],
      "metadata": {
        "id": "iouCv3LZbZPx"
      },
      "id": "iouCv3LZbZPx"
    },
    {
      "cell_type": "code",
      "source": [
        "k = spy.exp(s)\n",
        "spy.integrate(k, s)"
      ],
      "metadata": {
        "id": "DcrFRlRoMaqA"
      },
      "id": "DcrFRlRoMaqA",
      "execution_count": null,
      "outputs": []
    },
    {
      "cell_type": "code",
      "source": [
        "def func_4(x):\n",
        "  return np.exp(x)"
      ],
      "metadata": {
        "id": "WxtUi8eODpS8"
      },
      "id": "WxtUi8eODpS8",
      "execution_count": null,
      "outputs": []
    },
    {
      "cell_type": "code",
      "source": [
        "arc_length, x_coord, y_coord = x_y_coordinates(x_func, y_func, func_4, s_steps)"
      ],
      "metadata": {
        "id": "_iv3B37vD306"
      },
      "id": "_iv3B37vD306",
      "execution_count": null,
      "outputs": []
    },
    {
      "cell_type": "code",
      "source": [
        "fig, ax = plt.subplots(1, 1)\n",
        "ax.plot(x_coord, y_coord, 'b')\n",
        "ax.set_aspect('equal')\n",
        "ax.grid()"
      ],
      "metadata": {
        "id": "01UevKB3D91K"
      },
      "id": "01UevKB3D91K",
      "execution_count": null,
      "outputs": []
    },
    {
      "cell_type": "code",
      "source": [
        ""
      ],
      "metadata": {
        "id": "4c8pacVtEBa-"
      },
      "id": "4c8pacVtEBa-",
      "execution_count": null,
      "outputs": []
    },
    {
      "cell_type": "markdown",
      "source": [
        "# Trigonemtric Functions"
      ],
      "metadata": {
        "id": "Jvnju0UIbzXw"
      },
      "id": "Jvnju0UIbzXw"
    },
    {
      "cell_type": "code",
      "source": [
        "k = spy.cos(s) - s * spy.sin(s)\n",
        "spy.integrate(k, s)"
      ],
      "metadata": {
        "id": "_VrWDeeHbzX4"
      },
      "execution_count": null,
      "outputs": [],
      "id": "_VrWDeeHbzX4"
    },
    {
      "cell_type": "code",
      "source": [
        "def func_4(x):\n",
        "  return x * np.cos(x)"
      ],
      "metadata": {
        "id": "tO9YngsrbzX7"
      },
      "execution_count": null,
      "outputs": [],
      "id": "tO9YngsrbzX7"
    },
    {
      "cell_type": "code",
      "source": [
        "arc_length, x_coord, y_coord = x_y_coordinates(x_func, y_func, func_4, np.linspace(1e-6, 30, steps))"
      ],
      "metadata": {
        "id": "xN7Z9tFIbzX9"
      },
      "execution_count": null,
      "outputs": [],
      "id": "xN7Z9tFIbzX9"
    },
    {
      "cell_type": "code",
      "source": [
        "fig, ax = plt.subplots(1, 1, figsize=(10, 10))\n",
        "ax.plot(x_coord, y_coord, 'b')\n",
        "ax.set_aspect('equal')\n",
        "ax.grid()"
      ],
      "metadata": {
        "id": "MMu29FszbzX-"
      },
      "execution_count": null,
      "outputs": [],
      "id": "MMu29FszbzX-"
    },
    {
      "cell_type": "code",
      "source": [
        "k = s ** 2 + s * spy.cos(2 * spy.pi * s) \n",
        "spy.integrate(k, s)"
      ],
      "metadata": {
        "id": "lJdUeCf5a99l"
      },
      "id": "lJdUeCf5a99l",
      "execution_count": null,
      "outputs": []
    },
    {
      "cell_type": "code",
      "source": [
        "def func_5(x):\n",
        "  return np.power(x, 3)"
      ],
      "metadata": {
        "id": "kgGxqzGvdOas"
      },
      "id": "kgGxqzGvdOas",
      "execution_count": null,
      "outputs": []
    },
    {
      "cell_type": "code",
      "source": [
        "arc_length, x_coord, y_coord = x_y_coordinates(x_func, y_func, func_5,  np.linspace(1e-6, 5, steps))\n",
        "fig, ax = plt.subplots(1, 1, figsize=(10, 10))\n",
        "ax.plot(x_coord, y_coord, 'b')\n",
        "ax.set_aspect('equal')\n",
        "ax.grid()"
      ],
      "metadata": {
        "id": "36uQCYGddUOR"
      },
      "id": "36uQCYGddUOR",
      "execution_count": null,
      "outputs": []
    },
    {
      "cell_type": "code",
      "source": [
        "k = spy.cosh(s) - 5.19\n",
        "spy.integrate(k, s)"
      ],
      "metadata": {
        "id": "8Diy13lndaxN"
      },
      "id": "8Diy13lndaxN",
      "execution_count": null,
      "outputs": []
    },
    {
      "cell_type": "code",
      "source": [
        "def func_6(x):\n",
        "  return   np.sinh(x) - 5.19 * x"
      ],
      "metadata": {
        "id": "5DmfFA-KkmLa"
      },
      "id": "5DmfFA-KkmLa",
      "execution_count": null,
      "outputs": []
    },
    {
      "cell_type": "code",
      "source": [
        "arc_length, x_coord, y_coord = x_y_coordinates(x_func, y_func, func_6, np.linspace(1e-6, 10, steps))\n",
        "fig, ax = plt.subplots(1, 1, figsize=(10, 10))\n",
        "ax.plot(x_coord, y_coord, 'b')\n",
        "ax.set_aspect('equal')\n",
        "ax.grid()"
      ],
      "metadata": {
        "id": "ypTQfPyQku_9"
      },
      "id": "ypTQfPyQku_9",
      "execution_count": null,
      "outputs": []
    },
    {
      "cell_type": "code",
      "source": [
        ""
      ],
      "metadata": {
        "id": "pBr3V-gAQmHp"
      },
      "id": "pBr3V-gAQmHp",
      "execution_count": null,
      "outputs": []
    }
  ],
  "metadata": {
    "kernelspec": {
      "display_name": "Python 3 (ipykernel)",
      "language": "python",
      "name": "python3"
    },
    "language_info": {
      "codemirror_mode": {
        "name": "ipython",
        "version": 3
      },
      "file_extension": ".py",
      "mimetype": "text/x-python",
      "name": "python",
      "nbconvert_exporter": "python",
      "pygments_lexer": "ipython3",
      "version": "3.10.4"
    },
    "colab": {
      "name": "euler_curves.ipynb",
      "provenance": [],
      "collapsed_sections": [],
      "include_colab_link": true
    }
  },
  "nbformat": 4,
  "nbformat_minor": 5
}