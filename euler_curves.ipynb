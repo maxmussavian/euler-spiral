{
  "cells": [
    {
      "cell_type": "markdown",
      "metadata": {
        "id": "view-in-github",
        "colab_type": "text"
      },
      "source": [
        "<a href=\"https://colab.research.google.com/github/maxmussavian/euler-spiral/blob/main/euler_curves.ipynb\" target=\"_parent\"><img src=\"https://colab.research.google.com/assets/colab-badge.svg\" alt=\"Open In Colab\"/></a>"
      ]
    },
    {
      "cell_type": "code",
      "execution_count": null,
      "id": "29646b48-9784-4144-9925-8a49118dc887",
      "metadata": {
        "id": "29646b48-9784-4144-9925-8a49118dc887"
      },
      "outputs": [],
      "source": [
        "import sympy as spy\n",
        "from matplotlib import pyplot as plt\n",
        "import scipy.integrate as integrate\n",
        "import numpy as np"
      ]
    },
    {
      "cell_type": "code",
      "execution_count": null,
      "id": "bbf8ac7c-8626-4e69-a5a3-1f306e8e0018",
      "metadata": {
        "id": "bbf8ac7c-8626-4e69-a5a3-1f306e8e0018"
      },
      "outputs": [],
      "source": [
        "t, s = spy.symbols('t s')"
      ]
    },
    {
      "cell_type": "code",
      "execution_count": null,
      "id": "34797866-12eb-4278-abec-b96b59dd37e7",
      "metadata": {
        "id": "34797866-12eb-4278-abec-b96b59dd37e7"
      },
      "outputs": [],
      "source": [
        "def x_func(lower, upper, func):\n",
        "  def integrand(t):\n",
        "    return np.cos(func(t))\n",
        "  result, _ = integrate.quad(integrand, lower, upper)\n",
        "  return result"
      ]
    },
    {
      "cell_type": "code",
      "execution_count": null,
      "id": "5696eb42-8533-4845-bbcb-506ed5b4e274",
      "metadata": {
        "id": "5696eb42-8533-4845-bbcb-506ed5b4e274"
      },
      "outputs": [],
      "source": [
        "def y_func(lower, upper, func):\n",
        "  def integrand(t):\n",
        "    return np.sin(func(t))\n",
        "  result, _ = integrate.quad(integrand, lower, upper)\n",
        "  return result"
      ]
    },
    {
      "cell_type": "code",
      "execution_count": null,
      "metadata": {
        "id": "dSj5LY8JFXYW"
      },
      "outputs": [],
      "source": [
        "def x_y_coordinates(delta_x, delta_y, func, s_steps):\n",
        "  x_values_pos = np.cumsum([delta_x(l, u, func) for l, u in zip(s_steps[:-1], s_steps[1:])])  \n",
        "  y_values_pos = np.cumsum([delta_y(l, u, func) for l, u in zip(s_steps[:-1], s_steps[1:])])\n",
        "  x_values_neg = np.flip(np.cumsum([delta_x(l, u, func) for l, u in zip(-s_steps[:-1], -s_steps[1:])]))\n",
        "  y_values_neg = np.flip(np.cumsum([delta_y(l, u, func) for l, u in zip(-s_steps[:-1], -s_steps[1:])]))\n",
        "\n",
        "#  x_values_pos = np.asarray([delta_x(l, u, func) for l, u in zip(s_steps[:-1], s_steps[1:])])  \n",
        "#  y_values_pos = np.asarray([delta_y(l, u, func) for l, u in zip(s_steps[:-1], s_steps[1:])])\n",
        "#  x_values_neg = np.flip(np.asarray([delta_x(l, u, func) for l, u in zip(-s_steps[:-1], -s_steps[1:])]))\n",
        "#  y_values_neg = np.flip(np.asarray([delta_y(l, u, func) for l, u in zip(-s_steps[:-1], -s_steps[1:])]))\n",
        "\n",
        "  return (\n",
        "     np.concatenate([np.flip(-s_steps[1:]), s_steps[1:]]),\n",
        "     np.concatenate([x_values_neg, x_values_pos]), \n",
        "     np.concatenate([y_values_neg, y_values_pos])\n",
        "  ) "
      ],
      "id": "dSj5LY8JFXYW"
    },
    {
      "cell_type": "code",
      "execution_count": null,
      "id": "f542c715-07c0-4b18-a83c-189407a098a8",
      "metadata": {
        "id": "f542c715-07c0-4b18-a83c-189407a098a8"
      },
      "outputs": [],
      "source": [
        "start = 1e-6\n",
        "end = 10\n",
        "steps = 500\n",
        "s_steps = np.linspace(start, end, steps)"
      ]
    },
    {
      "cell_type": "markdown",
      "source": [
        "# Euler Spiral"
      ],
      "metadata": {
        "id": "_XdMqIU85hqH"
      },
      "id": "_XdMqIU85hqH"
    },
    {
      "cell_type": "code",
      "execution_count": null,
      "id": "0e980edb-cc89-4163-98dd-553cc450ad00",
      "metadata": {
        "id": "0e980edb-cc89-4163-98dd-553cc450ad00",
        "colab": {
          "base_uri": "https://localhost:8080/",
          "height": 54
        },
        "outputId": "15438210-1cab-4b4c-bd8b-7986201f7264"
      },
      "outputs": [
        {
          "output_type": "execute_result",
          "data": {
            "text/plain": [
              "s**2/2"
            ],
            "text/latex": "$\\displaystyle \\frac{s^{2}}{2}$"
          },
          "metadata": {},
          "execution_count": 42
        }
      ],
      "source": [
        "k = s\n",
        "spy.integrate(k, s)"
      ]
    },
    {
      "cell_type": "code",
      "execution_count": null,
      "id": "56462631-91d6-4f72-b3ce-cc175e0879b6",
      "metadata": {
        "id": "56462631-91d6-4f72-b3ce-cc175e0879b6"
      },
      "outputs": [],
      "source": [
        "def func_euler(x):\n",
        "    return 0.5 * np.power(x, 2)"
      ]
    },
    {
      "cell_type": "code",
      "source": [
        "arc_length, x_coord, y_coord = x_y_coordinates(x_func, y_func, func_euler, s_steps)"
      ],
      "metadata": {
        "id": "2Z945YFYGn08"
      },
      "id": "2Z945YFYGn08",
      "execution_count": null,
      "outputs": []
    },
    {
      "cell_type": "code",
      "execution_count": null,
      "id": "e9144fc8-31f7-466f-a639-e5cb5e316e90",
      "metadata": {
        "colab": {
          "base_uri": "https://localhost:8080/",
          "height": 282
        },
        "id": "e9144fc8-31f7-466f-a639-e5cb5e316e90",
        "outputId": "f8182616-6203-4155-d715-e7ed09a8514c"
      },
      "outputs": [
        {
          "output_type": "display_data",
          "data": {
            "text/plain": [
              "<Figure size 432x288 with 1 Axes>"
            ],
            "image/png": "[encoded data removed]"
          },
          "metadata": {
            "needs_background": "light"
          }
        }
      ],
      "source": [
        "fig, ax = plt.subplots(1, 1)\n",
        "ax.plot(arc_length, x_coord, 'b', label='x_coordinate')\n",
        "ax.plot(arc_length, y_coord, 'g', label='y_coordiante')\n",
        "ax.set_xlabel('arc length')\n",
        "ax.set_ylabel('coordindate')\n",
        "_ = ax.legend()"
      ]
    },
    {
      "cell_type": "code",
      "execution_count": null,
      "id": "73cb038c-1966-4e7c-a845-16b3c9ed7aca",
      "metadata": {
        "colab": {
          "base_uri": "https://localhost:8080/",
          "height": 236
        },
        "id": "73cb038c-1966-4e7c-a845-16b3c9ed7aca",
        "outputId": "f6200f1d-892d-4e60-f08d-8aeaece2f0f9"
      },
      "outputs": [
        {
          "output_type": "display_data",
          "data": {
            "text/plain": [
              "<Figure size 432x288 with 1 Axes>"
            ],
            "image/png": "[encoded data removed]"
          },
          "metadata": {
            "needs_background": "light"
          }
        }
      ],
      "source": [
        "fig, ax = plt.subplots(1, 1)\n",
        "ax.plot(x_coord, y_coord, 'b')\n",
        "ax.set_aspect('equal')\n",
        "ax.grid()"
      ]
    },
    {
      "cell_type": "code",
      "execution_count": null,
      "id": "06215881-1b68-4800-8f4b-09f2d3d6fc70",
      "metadata": {
        "id": "06215881-1b68-4800-8f4b-09f2d3d6fc70",
        "colab": {
          "base_uri": "https://localhost:8080/"
        },
        "outputId": "9f05d46f-762b-4856-d9df-b8ea363ed554"
      },
      "outputs": [
        {
          "output_type": "execute_result",
          "data": {
            "text/plain": [
              "array([-1.38232406, -1.38231289, -1.3822794 , -1.38222363, -1.38214565,\n",
              "       -1.38204548, -1.38192319, -1.38177883, -1.38161243, -1.38142406,\n",
              "       -1.38121376, -1.38098159, -1.3807276 , -1.38045185, -1.38015439,\n",
              "       -1.37983527, -1.37949456, -1.37913231, -1.37874858, -1.37834343,\n",
              "       -1.37791691, -1.37746909, -1.37700003, -1.37650979, -1.37599842,\n",
              "       -1.37546601, -1.37491259, -1.37433826, -1.37374305, -1.37312705,\n",
              "       -1.37249032, -1.37183291, -1.37115491, -1.37045638, -1.36973739,\n",
              "       -1.36899799, -1.36823828, -1.3674583 , -1.36665814, -1.36583787,\n",
              "       -1.36499755, -1.36413726, -1.36325707, -1.36235706, -1.36143729,\n",
              "       -1.36049784, -1.35953878, -1.3585602 , -1.35756215, -1.35654473,\n",
              "       -1.355508  , -1.35445204, -1.35337693, -1.35228274, -1.35116956,\n",
              "       -1.35003745, -1.34888651, -1.3477168 , -1.3465284 , -1.3453214 ,\n",
              "       -1.34409587, -1.3428519 , -1.34158955, -1.34030893, -1.33901009,\n",
              "       -1.33769313, -1.33635813, -1.33500517, -1.33363432, -1.33224568,\n",
              "       -1.33083932, -1.32941533, -1.32797378, -1.32651477, -1.32503837,\n",
              "       -1.32354467, -1.32203376, -1.3205057 , -1.3189606 , -1.31739853,\n",
              "       -1.31581958, -1.31422383, -1.31261137, -1.31098227, -1.30933664,\n",
              "       -1.30767454, -1.30599607, -1.30430131, -1.30259035, -1.30086327,\n",
              "       -1.29912016, -1.2973611 , -1.29558618, -1.29379548, -1.29198909,\n",
              "       -1.2901671 , -1.28832959, -1.28647665, -1.28460836, -1.28272481,\n",
              "       -1.28082609, -1.27891228, -1.27698347, -1.27503974, -1.27308118,\n",
              "       -1.27110788, -1.26911993, -1.2671174 , -1.26510038, -1.26306897,\n",
              "       -1.26102325, -1.25896329, -1.2568892 , -1.25480106, -1.25269894,\n",
              "       -1.25058294, -1.24845314, -1.24630964, -1.2441525 , -1.24198183,\n",
              "       -1.2397977 , -1.2376002 , -1.23538942, -1.23316544, -1.23092835,\n",
              "       -1.22867822, -1.22641516, -1.22413923, -1.22185053, -1.21954914,\n",
              "       -1.21723515, -1.21490863, -1.21256968, -1.21021838, -1.2078548 ,\n",
              "       -1.20547904, -1.20309118, -1.2006913 , -1.19827949, -1.19585582,\n",
              "       -1.19342038, -1.19097326, -1.18851454, -1.18604429, -1.1835626 ,\n",
              "       -1.18106956, -1.17856524, -1.17604973, -1.1735231 , -1.17098545,\n",
              "       -1.16843684, -1.16587736, -1.1633071 , -1.16072612, -1.15813452,\n",
              "       -1.15553237, -1.15291975, -1.15029674, -1.14766342, -1.14501987,\n",
              "       -1.14236616, -1.13970239, -1.13702861, -1.13434492, -1.13165139,\n",
              "       -1.12894809, -1.12623511, -1.12351252, -1.1207804 , -1.11803882,\n",
              "       -1.11528787, -1.11252761, -1.10975812, -1.10697948, -1.10419177,\n",
              "       -1.10139505, -1.0985894 , -1.0957749 , -1.09295162, -1.09011963,\n",
              "       -1.08727901, -1.08442983, -1.08157216, -1.07870608, -1.07583165,\n",
              "       -1.07294896, -1.07005806, -1.06715904, -1.06425196, -1.0613369 ,\n",
              "       -1.05841392, -1.05548309, -1.05254449, -1.04959818, -1.04664424,\n",
              "       -1.04368272, -1.04071371, -1.03773726, -1.03475345, -1.03176234,\n",
              "       -1.028764  , -1.0257585 , -1.0227459 , -1.01972628, -1.01669968,\n",
              "       -1.01366619, -1.01062587, -1.00757878, -1.00452498, -1.00146454,\n",
              "       -0.99839753, -0.995324  , -0.99224403, -0.98915767, -0.98606498,\n",
              "       -0.98296603, -0.97986089, -0.9767496 , -0.97363224, -0.97050886,\n",
              "       -0.96737952, -0.96424429, -0.96110322, -0.95795637, -0.95480381,\n",
              "       -0.95164559, -0.94848177, -0.9453124 , -0.94213755, -0.93895727,\n",
              "       -0.93577162, -0.93258066, -0.92938444, -0.92618302, -0.92297645,\n",
              "       -0.91976479, -0.9165481 , -0.91332642, -0.91009982, -0.90686835,\n",
              "       -0.90363205, -0.90039099, -0.89714521, -0.89389477, -0.89063973,\n",
              "       -0.88738012, -0.88411602, -0.88084745, -0.87757448, -0.87429716,\n",
              "       -0.87101553, -0.86772965, -0.86443957, -0.86114533, -0.85784698,\n",
              "       -0.85454457, -0.85123815, -0.84792777, -0.84461347, -0.8412953 ,\n",
              "       -0.83797331, -0.83464755, -0.83131805, -0.82798487, -0.82464804,\n",
              "       -0.82130763, -0.81796366, -0.81461618, -0.81126524, -0.80791088,\n",
              "       -0.80455315, -0.80119208, -0.79782772, -0.79446012, -0.7910893 ,\n",
              "       -0.78771532, -0.78433822, -0.78095803, -0.77757479, -0.77418856,\n",
              "       -0.77079936, -0.76740723, -0.76401222, -0.76061437, -0.7572137 ,\n",
              "       -0.75381027, -0.7504041 , -0.74699524, -0.74358372, -0.74016958,\n",
              "       -0.73675285, -0.73333358, -0.72991179, -0.72648753, -0.72306082,\n",
              "       -0.71963171, -0.71620022, -0.7127664 , -0.70933027, -0.70589187,\n",
              "       -0.70245123, -0.69900839, -0.69556338, -0.69211622, -0.68866696,\n",
              "       -0.68521562, -0.68176224, -0.67830684, -0.67484946, -0.67139013,\n",
              "       -0.66792887, -0.66446573, -0.66100071, -0.65753387, -0.65406522,\n",
              "       -0.6505948 , -0.64712262, -0.64364873, -0.64017314, -0.63669589,\n",
              "       -0.63321701, -0.62973651, -0.62625443, -0.62277079, -0.61928562,\n",
              "       -0.61579894, -0.61231079, -0.60882117, -0.60533013, -0.60183769,\n",
              "       -0.59834386, -0.59484867, -0.59135215, -0.58785432, -0.58435521,\n",
              "       -0.58085483, -0.5773532 , -0.57385036, -0.57034633, -0.56684112,\n",
              "       -0.56333475, -0.55982726, -0.55631865, -0.55280896, -0.54929819,\n",
              "       -0.54578638, -0.54227354, -0.53875969, -0.53524485, -0.53172904,\n",
              "       -0.52821227, -0.52469458, -0.52117597, -0.51765647, -0.51413609,\n",
              "       -0.51061485, -0.50709277, -0.50356987, -0.50004615, -0.49652165,\n",
              "       -0.49299637, -0.48947034, -0.48594356, -0.48241606, -0.47888785,\n",
              "       -0.47535895, -0.47182937, -0.46829912, -0.46476822, -0.46123669,\n",
              "       -0.45770454, -0.45417179, -0.45063844, -0.44710451, -0.44357002,\n",
              "       -0.44003498, -0.4364994 , -0.4329633 , -0.42942668, -0.42588956,\n",
              "       -0.42235195, -0.41881387, -0.41527533, -0.41173633, -0.40819689,\n",
              "       -0.40465702, -0.40111674, -0.39757604, -0.39403495, -0.39049347,\n",
              "       -0.38695162, -0.3834094 , -0.37986683, -0.37632391, -0.37278065,\n",
              "       -0.36923707, -0.36569316, -0.36214895, -0.35860444, -0.35505964,\n",
              "       -0.35151456, -0.3479692 , -0.34442357, -0.34087769, -0.33733156,\n",
              "       -0.33378519, -0.33023858, -0.32669174, -0.32314468, -0.31959742,\n",
              "       -0.31604994, -0.31250227, -0.3089544 , -0.30540634, -0.30185811,\n",
              "       -0.2983097 , -0.29476113, -0.29121239, -0.2876635 , -0.28411446,\n",
              "       -0.28056527, -0.27701595, -0.27346649, -0.2699169 , -0.26636719,\n",
              "       -0.26281735, -0.25926741, -0.25571735, -0.25216719, -0.24861692,\n",
              "       -0.24506656, -0.24151611, -0.23796557, -0.23441494, -0.23086423,\n",
              "       -0.22731344, -0.22376258, -0.22021165, -0.21666065, -0.21310959,\n",
              "       -0.20955847, -0.20600729, -0.20245605, -0.19890476, -0.19535342,\n",
              "       -0.19180203, -0.1882506 , -0.18469913, -0.18114762, -0.17759607,\n",
              "       -0.17404448, -0.17049286, -0.16694121, -0.16338954, -0.15983783,\n",
              "       -0.1562861 , -0.15273434, -0.14918256, -0.14563076, -0.14207894,\n",
              "       -0.1385271 , -0.13497525, -0.13142338, -0.1278715 , -0.1243196 ,\n",
              "       -0.12076769, -0.11721577, -0.11366384, -0.1101119 , -0.10655995,\n",
              "       -0.10300799, -0.09945603, -0.09590406, -0.09235208, -0.0888001 ,\n",
              "       -0.08524812, -0.08169613, -0.07814414, -0.07459215, -0.07104015,\n",
              "       -0.06748815, -0.06393615, -0.06038415, -0.05683214, -0.05328014,\n",
              "       -0.04972813, -0.04617612, -0.04262411, -0.0390721 , -0.0355201 ,\n",
              "       -0.03196809, -0.02841608, -0.02486407, -0.02131206, -0.01776005,\n",
              "       -0.01420804, -0.01065603, -0.00710402, -0.00355201,  0.00355201,\n",
              "        0.00710402,  0.01065603,  0.01420804,  0.01776005,  0.02131206,\n",
              "        0.02486407,  0.02841608,  0.03196809,  0.0355201 ,  0.0390721 ,\n",
              "        0.04262411,  0.04617612,  0.04972813,  0.05328014,  0.05683214,\n",
              "        0.06038415,  0.06393615,  0.06748815,  0.07104015,  0.07459215,\n",
              "        0.07814414,  0.08169613,  0.08524812,  0.0888001 ,  0.09235208,\n",
              "        0.09590406,  0.09945603,  0.10300799,  0.10655995,  0.1101119 ,\n",
              "        0.11366384,  0.11721577,  0.12076769,  0.1243196 ,  0.1278715 ,\n",
              "        0.13142338,  0.13497525,  0.1385271 ,  0.14207894,  0.14563076,\n",
              "        0.14918256,  0.15273434,  0.1562861 ,  0.15983783,  0.16338954,\n",
              "        0.16694121,  0.17049286,  0.17404448,  0.17759607,  0.18114762,\n",
              "        0.18469913,  0.1882506 ,  0.19180203,  0.19535342,  0.19890476,\n",
              "        0.20245605,  0.20600729,  0.20955847,  0.21310959,  0.21666065,\n",
              "        0.22021165,  0.22376258,  0.22731344,  0.23086423,  0.23441494,\n",
              "        0.23796557,  0.24151611,  0.24506656,  0.24861692,  0.25216719,\n",
              "        0.25571735,  0.25926741,  0.26281735,  0.26636719,  0.2699169 ,\n",
              "        0.27346649,  0.27701595,  0.28056527,  0.28411446,  0.2876635 ,\n",
              "        0.29121239,  0.29476113,  0.2983097 ,  0.30185811,  0.30540634,\n",
              "        0.3089544 ,  0.31250227,  0.31604994,  0.31959742,  0.32314468,\n",
              "        0.32669174,  0.33023858,  0.33378519,  0.33733156,  0.34087769,\n",
              "        0.34442357,  0.3479692 ,  0.35151456,  0.35505964,  0.35860444,\n",
              "        0.36214895,  0.36569316,  0.36923707,  0.37278065,  0.37632391,\n",
              "        0.37986683,  0.3834094 ,  0.38695162,  0.39049347,  0.39403495,\n",
              "        0.39757604,  0.40111674,  0.40465702,  0.40819689,  0.41173633,\n",
              "        0.41527533,  0.41881387,  0.42235195,  0.42588956,  0.42942668,\n",
              "        0.4329633 ,  0.4364994 ,  0.44003498,  0.44357002,  0.44710451,\n",
              "        0.45063844,  0.45417179,  0.45770454,  0.46123669,  0.46476822,\n",
              "        0.46829912,  0.47182937,  0.47535895,  0.47888785,  0.48241606,\n",
              "        0.48594356,  0.48947034,  0.49299637,  0.49652165,  0.50004615,\n",
              "        0.50356987,  0.50709277,  0.51061485,  0.51413609,  0.51765647,\n",
              "        0.52117597,  0.52469458,  0.52821227,  0.53172904,  0.53524485,\n",
              "        0.53875969,  0.54227354,  0.54578638,  0.54929819,  0.55280896,\n",
              "        0.55631865,  0.55982726,  0.56333475,  0.56684112,  0.57034633,\n",
              "        0.57385036,  0.5773532 ,  0.58085483,  0.58435521,  0.58785432,\n",
              "        0.59135215,  0.59484867,  0.59834386,  0.60183769,  0.60533013,\n",
              "        0.60882117,  0.61231079,  0.61579894,  0.61928562,  0.62277079,\n",
              "        0.62625443,  0.62973651,  0.63321701,  0.63669589,  0.64017314,\n",
              "        0.64364873,  0.64712262,  0.6505948 ,  0.65406522,  0.65753387,\n",
              "        0.66100071,  0.66446573,  0.66792887,  0.67139013,  0.67484946,\n",
              "        0.67830684,  0.68176224,  0.68521562,  0.68866696,  0.69211622,\n",
              "        0.69556338,  0.69900839,  0.70245123,  0.70589187,  0.70933027,\n",
              "        0.7127664 ,  0.71620022,  0.71963171,  0.72306082,  0.72648753,\n",
              "        0.72991179,  0.73333358,  0.73675285,  0.74016958,  0.74358372,\n",
              "        0.74699524,  0.7504041 ,  0.75381027,  0.7572137 ,  0.76061437,\n",
              "        0.76401222,  0.76740723,  0.77079936,  0.77418856,  0.77757479,\n",
              "        0.78095803,  0.78433822,  0.78771532,  0.7910893 ,  0.79446012,\n",
              "        0.79782772,  0.80119208,  0.80455315,  0.80791088,  0.81126524,\n",
              "        0.81461618,  0.81796366,  0.82130763,  0.82464804,  0.82798487,\n",
              "        0.83131805,  0.83464755,  0.83797331,  0.8412953 ,  0.84461347,\n",
              "        0.84792777,  0.85123815,  0.85454457,  0.85784698,  0.86114533,\n",
              "        0.86443957,  0.86772965,  0.87101553,  0.87429716,  0.87757448,\n",
              "        0.88084745,  0.88411602,  0.88738012,  0.89063973,  0.89389477,\n",
              "        0.89714521,  0.90039099,  0.90363205,  0.90686835,  0.91009982,\n",
              "        0.91332642,  0.9165481 ,  0.91976479,  0.92297645,  0.92618302,\n",
              "        0.92938444,  0.93258066,  0.93577162,  0.93895727,  0.94213755,\n",
              "        0.9453124 ,  0.94848177,  0.95164559,  0.95480381,  0.95795637,\n",
              "        0.96110322,  0.96424429,  0.96737952,  0.97050886,  0.97363224,\n",
              "        0.9767496 ,  0.97986089,  0.98296603,  0.98606498,  0.98915767,\n",
              "        0.99224403,  0.995324  ,  0.99839753,  1.00146454,  1.00452498,\n",
              "        1.00757878,  1.01062587,  1.01366619,  1.01669968,  1.01972628,\n",
              "        1.0227459 ,  1.0257585 ,  1.028764  ,  1.03176234,  1.03475345,\n",
              "        1.03773726,  1.04071371,  1.04368272,  1.04664424,  1.04959818,\n",
              "        1.05254449,  1.05548309,  1.05841392,  1.0613369 ,  1.06425196,\n",
              "        1.06715904,  1.07005806,  1.07294896,  1.07583165,  1.07870608,\n",
              "        1.08157216,  1.08442983,  1.08727901,  1.09011963,  1.09295162,\n",
              "        1.0957749 ,  1.0985894 ,  1.10139505,  1.10419177,  1.10697948,\n",
              "        1.10975812,  1.11252761,  1.11528787,  1.11803882,  1.1207804 ,\n",
              "        1.12351252,  1.12623511,  1.12894809,  1.13165139,  1.13434492,\n",
              "        1.13702861,  1.13970239,  1.14236616,  1.14501987,  1.14766342,\n",
              "        1.15029674,  1.15291975,  1.15553237,  1.15813452,  1.16072612,\n",
              "        1.1633071 ,  1.16587736,  1.16843684,  1.17098545,  1.1735231 ,\n",
              "        1.17604973,  1.17856524,  1.18106956,  1.1835626 ,  1.18604429,\n",
              "        1.18851454,  1.19097326,  1.19342038,  1.19585582,  1.19827949,\n",
              "        1.2006913 ,  1.20309118,  1.20547904,  1.2078548 ,  1.21021838,\n",
              "        1.21256968,  1.21490863,  1.21723515,  1.21954914,  1.22185053,\n",
              "        1.22413923,  1.22641516,  1.22867822,  1.23092835,  1.23316544,\n",
              "        1.23538942,  1.2376002 ,  1.2397977 ,  1.24198183,  1.2441525 ,\n",
              "        1.24630964,  1.24845314,  1.25058294,  1.25269894,  1.25480106,\n",
              "        1.2568892 ,  1.25896329,  1.26102325,  1.26306897,  1.26510038,\n",
              "        1.2671174 ,  1.26911993,  1.27110788,  1.27308118,  1.27503974,\n",
              "        1.27698347,  1.27891228,  1.28082609,  1.28272481,  1.28460836,\n",
              "        1.28647665,  1.28832959,  1.2901671 ,  1.29198909,  1.29379548,\n",
              "        1.29558618,  1.2973611 ,  1.29912016,  1.30086327,  1.30259035,\n",
              "        1.30430131,  1.30599607,  1.30767454,  1.30933664,  1.31098227,\n",
              "        1.31261137,  1.31422383,  1.31581958,  1.31739853,  1.3189606 ,\n",
              "        1.3205057 ,  1.32203376,  1.32354467,  1.32503837,  1.32651477,\n",
              "        1.32797378,  1.32941533,  1.33083932,  1.33224568,  1.33363432,\n",
              "        1.33500517,  1.33635813,  1.33769313,  1.33901009,  1.34030893,\n",
              "        1.34158955,  1.3428519 ,  1.34409587,  1.3453214 ,  1.3465284 ,\n",
              "        1.3477168 ,  1.34888651,  1.35003745,  1.35116956,  1.35228274,\n",
              "        1.35337693,  1.35445204,  1.355508  ,  1.35654473,  1.35756215,\n",
              "        1.3585602 ,  1.35953878,  1.36049784,  1.36143729,  1.36235706,\n",
              "        1.36325707,  1.36413726,  1.36499755,  1.36583787,  1.36665814,\n",
              "        1.3674583 ,  1.36823828,  1.36899799,  1.36973739,  1.37045638,\n",
              "        1.37115491,  1.37183291,  1.37249032,  1.37312705,  1.37374305,\n",
              "        1.37433826,  1.37491259,  1.37546601,  1.37599842,  1.37650979,\n",
              "        1.37700003,  1.37746909,  1.37791691,  1.37834343,  1.37874858,\n",
              "        1.37913231,  1.37949456,  1.37983527,  1.38015439,  1.38045185,\n",
              "        1.3807276 ,  1.38098159,  1.38121376,  1.38142406,  1.38161243,\n",
              "        1.38177883,  1.38192319,  1.38204548,  1.38214565,  1.38222363,\n",
              "        1.3822794 ,  1.38231289,  1.38232406])"
            ]
          },
          "metadata": {},
          "execution_count": 47
        }
      ],
      "source": [
        "  x_coord"
      ]
    },
    {
      "cell_type": "markdown",
      "source": [
        "# New section"
      ],
      "metadata": {
        "id": "37UDxTUX7whJ"
      },
      "id": "37UDxTUX7whJ"
    },
    {
      "cell_type": "code",
      "source": [
        "k = s ** 2 - 2.19\n",
        "spy.integrate(k, s)"
      ],
      "metadata": {
        "colab": {
          "base_uri": "https://localhost:8080/",
          "height": 39
        },
        "id": "Ldp4UC_P74Me",
        "outputId": "d480e295-469c-4838-f795-4d128842a1d6"
      },
      "id": "Ldp4UC_P74Me",
      "execution_count": null,
      "outputs": [
        {
          "output_type": "execute_result",
          "data": {
            "text/plain": [
              "0.333333333333333*s**3 - 2.19*s"
            ],
            "text/latex": "$\\displaystyle 0.333333333333333 s^{3} - 2.19 s$"
          },
          "metadata": {},
          "execution_count": 48
        }
      ]
    },
    {
      "cell_type": "code",
      "source": [
        "def func_2(x):\n",
        "  return np.power(x, 3) / 3. - 2.19 * x"
      ],
      "metadata": {
        "id": "OMBgrlx6769y"
      },
      "id": "OMBgrlx6769y",
      "execution_count": null,
      "outputs": []
    },
    {
      "cell_type": "code",
      "source": [
        "arc_length, x_coord, y_coord = x_y_coordinates(x_func, y_func, func_2, s_steps)"
      ],
      "metadata": {
        "id": "VberT8PIKkBT",
        "colab": {
          "base_uri": "https://localhost:8080/"
        },
        "outputId": "63b86b77-57ec-4699-f042-24bc29c8e788"
      },
      "execution_count": null,
      "outputs": [
        {
          "output_type": "stream",
          "name": "stderr",
          "text": [
            "/usr/local/lib/python3.7/dist-packages/ipykernel_launcher.py:4: IntegrationWarning: The maximum number of subdivisions (50) has been achieved.\n",
            "  If increasing the limit yields no improvement it is advised to analyze \n",
            "  the integrand in order to determine the difficulties.  If the position of a \n",
            "  local difficulty can be determined (singularity, discontinuity) one will \n",
            "  probably gain from splitting up the interval and calling the integrator \n",
            "  on the subranges.  Perhaps a special-purpose integrator should be used.\n",
            "  after removing the cwd from sys.path.\n",
            "/usr/local/lib/python3.7/dist-packages/ipykernel_launcher.py:4: IntegrationWarning: The integral is probably divergent, or slowly convergent.\n",
            "  after removing the cwd from sys.path.\n"
          ]
        }
      ],
      "id": "VberT8PIKkBT"
    },
    {
      "cell_type": "code",
      "execution_count": null,
      "metadata": {
        "colab": {
          "base_uri": "https://localhost:8080/",
          "height": 279
        },
        "outputId": "0a6a5378-dc13-4ae1-f51e-120fa9dfc3d7",
        "id": "sv3zJOPMKkBY"
      },
      "outputs": [
        {
          "output_type": "display_data",
          "data": {
            "text/plain": [
              "<Figure size 432x288 with 1 Axes>"
            ],
            "image/png": "[encoded data removed]"
          },
          "metadata": {
            "needs_background": "light"
          }
        }
      ],
      "source": [
        "fig, ax = plt.subplots(1, 1)\n",
        "ax.plot(arc_length, x_coord, 'b', label='x_coordinate')\n",
        "ax.plot(arc_length, y_coord, 'g', label='y_coordiante')\n",
        "ax.set_xlabel('arc length')\n",
        "ax.set_ylabel('coordindate')\n",
        "_ = ax.legend()"
      ],
      "id": "sv3zJOPMKkBY"
    },
    {
      "cell_type": "code",
      "source": [
        "fig, ax = plt.subplots(1, 1)\n",
        "ax.plot(x_coord, y_coord, 'b')\n",
        "ax.set_aspect('equal')\n",
        "ax.grid()"
      ],
      "metadata": {
        "colab": {
          "base_uri": "https://localhost:8080/",
          "height": 215
        },
        "id": "rWo7ovdWK6_l",
        "outputId": "ac8faafd-4cf8-45e6-81a5-6c2a1994ad3f"
      },
      "id": "rWo7ovdWK6_l",
      "execution_count": null,
      "outputs": [
        {
          "output_type": "display_data",
          "data": {
            "text/plain": [
              "<Figure size 432x288 with 1 Axes>"
            ],
            "image/png": "[encoded data removed]"
          },
          "metadata": {
            "needs_background": "light"
          }
        }
      ]
    },
    {
      "cell_type": "markdown",
      "source": [
        "# Function 3"
      ],
      "metadata": {
        "id": "0BsOFJVZbmJ6"
      },
      "id": "0BsOFJVZbmJ6"
    },
    {
      "cell_type": "code",
      "source": [
        "k = 5 * s ** 4 - 18 * s ** 2 + 5\n",
        "spy.integrate(k, s)"
      ],
      "metadata": {
        "colab": {
          "base_uri": "https://localhost:8080/",
          "height": 39
        },
        "id": "GzH2bOMSL2az",
        "outputId": "7fe07471-a379-4f8f-fb2e-7b8ed63643b5"
      },
      "id": "GzH2bOMSL2az",
      "execution_count": null,
      "outputs": [
        {
          "output_type": "execute_result",
          "data": {
            "text/plain": [
              "s**5 - 6*s**3 + 5*s"
            ],
            "text/latex": "$\\displaystyle s^{5} - 6 s^{3} + 5 s$"
          },
          "metadata": {},
          "execution_count": 18
        }
      ]
    },
    {
      "cell_type": "code",
      "source": [
        "def func_3(x):\n",
        "  return np.power(x, 5) - 6. * np.power(x, 3) + 5 * x"
      ],
      "metadata": {
        "id": "BCQx55ZbMBif"
      },
      "id": "BCQx55ZbMBif",
      "execution_count": null,
      "outputs": []
    },
    {
      "cell_type": "code",
      "source": [
        "arc_length, x_coord, y_coord = x_y_coordinates(x_func, y_func, func_3, s_steps)"
      ],
      "metadata": {
        "id": "dna0I_d-MNBQ",
        "colab": {
          "base_uri": "https://localhost:8080/"
        },
        "outputId": "cfed8615-c1e2-4f3c-9c5d-b1555da07bac"
      },
      "id": "dna0I_d-MNBQ",
      "execution_count": null,
      "outputs": [
        {
          "output_type": "stream",
          "name": "stderr",
          "text": [
            "/usr/local/lib/python3.7/dist-packages/ipykernel_launcher.py:4: IntegrationWarning: The maximum number of subdivisions (50) has been achieved.\n",
            "  If increasing the limit yields no improvement it is advised to analyze \n",
            "  the integrand in order to determine the difficulties.  If the position of a \n",
            "  local difficulty can be determined (singularity, discontinuity) one will \n",
            "  probably gain from splitting up the interval and calling the integrator \n",
            "  on the subranges.  Perhaps a special-purpose integrator should be used.\n",
            "  after removing the cwd from sys.path.\n",
            "/usr/local/lib/python3.7/dist-packages/ipykernel_launcher.py:4: IntegrationWarning: The integral is probably divergent, or slowly convergent.\n",
            "  after removing the cwd from sys.path.\n"
          ]
        }
      ]
    },
    {
      "cell_type": "code",
      "source": [
        "fig, ax = plt.subplots(1, 1)\n",
        "ax.plot(x_coord, y_coord, 'b')\n",
        "ax.set_aspect('equal')\n",
        "ax.grid()"
      ],
      "metadata": {
        "colab": {
          "base_uri": "https://localhost:8080/",
          "height": 267
        },
        "id": "HWuJZ_i-MQeV",
        "outputId": "da40c92f-d472-49af-e5b9-e22fe787bf4c"
      },
      "id": "HWuJZ_i-MQeV",
      "execution_count": null,
      "outputs": [
        {
          "output_type": "display_data",
          "data": {
            "text/plain": [
              "<Figure size 432x288 with 1 Axes>"
            ],
            "image/png": "[encoded data removed]"
          },
          "metadata": {
            "needs_background": "light"
          }
        }
      ]
    },
    {
      "cell_type": "markdown",
      "source": [
        "# Exponential"
      ],
      "metadata": {
        "id": "iouCv3LZbZPx"
      },
      "id": "iouCv3LZbZPx"
    },
    {
      "cell_type": "code",
      "source": [
        "k = spy.exp(s)\n",
        "spy.integrate(k, s)"
      ],
      "metadata": {
        "id": "DcrFRlRoMaqA",
        "colab": {
          "base_uri": "https://localhost:8080/",
          "height": 39
        },
        "outputId": "3cd40f77-7b69-4c2b-a834-c472c210fa31"
      },
      "id": "DcrFRlRoMaqA",
      "execution_count": null,
      "outputs": [
        {
          "output_type": "execute_result",
          "data": {
            "text/plain": [
              "exp(s)"
            ],
            "text/latex": "$\\displaystyle e^{s}$"
          },
          "metadata": {},
          "execution_count": 22
        }
      ]
    },
    {
      "cell_type": "code",
      "source": [
        "def func_4(x):\n",
        "  return np.exp(x)"
      ],
      "metadata": {
        "id": "WxtUi8eODpS8"
      },
      "id": "WxtUi8eODpS8",
      "execution_count": null,
      "outputs": []
    },
    {
      "cell_type": "code",
      "source": [
        "arc_length, x_coord, y_coord = x_y_coordinates(x_func, y_func, func_4, s_steps)"
      ],
      "metadata": {
        "id": "_iv3B37vD306",
        "colab": {
          "base_uri": "https://localhost:8080/"
        },
        "outputId": "7b6d07ae-6614-4f01-b1b9-d25f3245afda"
      },
      "id": "_iv3B37vD306",
      "execution_count": null,
      "outputs": [
        {
          "output_type": "stream",
          "name": "stderr",
          "text": [
            "/usr/local/lib/python3.7/dist-packages/ipykernel_launcher.py:4: IntegrationWarning: The integral is probably divergent, or slowly convergent.\n",
            "  after removing the cwd from sys.path.\n",
            "/usr/local/lib/python3.7/dist-packages/ipykernel_launcher.py:4: IntegrationWarning: The maximum number of subdivisions (50) has been achieved.\n",
            "  If increasing the limit yields no improvement it is advised to analyze \n",
            "  the integrand in order to determine the difficulties.  If the position of a \n",
            "  local difficulty can be determined (singularity, discontinuity) one will \n",
            "  probably gain from splitting up the interval and calling the integrator \n",
            "  on the subranges.  Perhaps a special-purpose integrator should be used.\n",
            "  after removing the cwd from sys.path.\n",
            "/usr/local/lib/python3.7/dist-packages/ipykernel_launcher.py:2: RuntimeWarning: overflow encountered in exp\n",
            "  \n",
            "/usr/local/lib/python3.7/dist-packages/ipykernel_launcher.py:3: RuntimeWarning: invalid value encountered in cos\n",
            "  This is separate from the ipykernel package so we can avoid doing imports until\n",
            "/usr/local/lib/python3.7/dist-packages/ipykernel_launcher.py:4: IntegrationWarning: The occurrence of roundoff error is detected, which prevents \n",
            "  the requested tolerance from being achieved.  The error may be \n",
            "  underestimated.\n",
            "  after removing the cwd from sys.path.\n",
            "/usr/local/lib/python3.7/dist-packages/ipykernel_launcher.py:3: RuntimeWarning: invalid value encountered in sin\n",
            "  This is separate from the ipykernel package so we can avoid doing imports until\n"
          ]
        }
      ]
    },
    {
      "cell_type": "code",
      "source": [
        "fig, ax = plt.subplots(1, 1)\n",
        "ax.plot(x_coord, y_coord, 'b')\n",
        "ax.set_aspect('equal')\n",
        "ax.grid()"
      ],
      "metadata": {
        "colab": {
          "base_uri": "https://localhost:8080/",
          "height": 68
        },
        "id": "01UevKB3D91K",
        "outputId": "3dae41f5-f8b3-41e5-9f01-d04e27966c39"
      },
      "id": "01UevKB3D91K",
      "execution_count": null,
      "outputs": [
        {
          "output_type": "display_data",
          "data": {
            "text/plain": [
              "<Figure size 432x288 with 1 Axes>"
            ],
            "image/png": "[encoded data removed]"
          },
          "metadata": {
            "needs_background": "light"
          }
        }
      ]
    },
    {
      "cell_type": "code",
      "source": [
        ""
      ],
      "metadata": {
        "id": "4c8pacVtEBa-"
      },
      "id": "4c8pacVtEBa-",
      "execution_count": null,
      "outputs": []
    },
    {
      "cell_type": "markdown",
      "source": [
        "# Trigonemtric Functions"
      ],
      "metadata": {
        "id": "Jvnju0UIbzXw"
      },
      "id": "Jvnju0UIbzXw"
    },
    {
      "cell_type": "code",
      "source": [
        "k = spy.cos(s) - s * spy.sin(s)\n",
        "spy.integrate(k, s)"
      ],
      "metadata": {
        "colab": {
          "base_uri": "https://localhost:8080/",
          "height": 39
        },
        "outputId": "e63204c9-e311-41bb-e74c-0eb46769c0e9",
        "id": "_VrWDeeHbzX4"
      },
      "execution_count": null,
      "outputs": [
        {
          "output_type": "execute_result",
          "data": {
            "text/plain": [
              "s*cos(s)"
            ],
            "text/latex": "$\\displaystyle s \\cos{\\left(s \\right)}$"
          },
          "metadata": {},
          "execution_count": 26
        }
      ],
      "id": "_VrWDeeHbzX4"
    },
    {
      "cell_type": "code",
      "source": [
        "def func_4(x):\n",
        "  return x * np.cos(x)"
      ],
      "metadata": {
        "id": "tO9YngsrbzX7"
      },
      "execution_count": null,
      "outputs": [],
      "id": "tO9YngsrbzX7"
    },
    {
      "cell_type": "code",
      "source": [
        "arc_length, x_coord, y_coord = x_y_coordinates(x_func, y_func, func_4, np.linspace(1e-6, 30, steps))"
      ],
      "metadata": {
        "id": "xN7Z9tFIbzX9"
      },
      "execution_count": null,
      "outputs": [],
      "id": "xN7Z9tFIbzX9"
    },
    {
      "cell_type": "code",
      "source": [
        "fig, ax = plt.subplots(1, 1, figsize=(10, 10))\n",
        "ax.plot(x_coord, y_coord, 'b')\n",
        "ax.set_aspect('equal')\n",
        "ax.grid()"
      ],
      "metadata": {
        "colab": {
          "base_uri": "https://localhost:8080/",
          "height": 592
        },
        "outputId": "0d610c83-4868-48e0-f9be-78985eeb6923",
        "id": "MMu29FszbzX-"
      },
      "execution_count": null,
      "outputs": [
        {
          "output_type": "display_data",
          "data": {
            "text/plain": [
              "<Figure size 720x720 with 1 Axes>"
            ],
            "image/png": "[encoded data removed]"
          },
          "metadata": {
            "needs_background": "light"
          }
        }
      ],
      "id": "MMu29FszbzX-"
    },
    {
      "cell_type": "code",
      "source": [
        "k = s ** 2 + s * spy.cos(2 * spy.pi * s) \n",
        "spy.integrate(k, s)"
      ],
      "metadata": {
        "id": "lJdUeCf5a99l",
        "colab": {
          "base_uri": "https://localhost:8080/",
          "height": 54
        },
        "outputId": "baa223dc-650f-4eb3-dc2a-d3e61e4276e7"
      },
      "id": "lJdUeCf5a99l",
      "execution_count": null,
      "outputs": [
        {
          "output_type": "execute_result",
          "data": {
            "text/plain": [
              "s**3/3 + s*sin(2*pi*s)/(2*pi) + cos(2*pi*s)/(4*pi**2)"
            ],
            "text/latex": "$\\displaystyle \\frac{s^{3}}{3} + \\frac{s \\sin{\\left(2 \\pi s \\right)}}{2 \\pi} + \\frac{\\cos{\\left(2 \\pi s \\right)}}{4 \\pi^{2}}$"
          },
          "metadata": {},
          "execution_count": 30
        }
      ]
    },
    {
      "cell_type": "code",
      "source": [
        "def func_5(x):\n",
        "  return np.power(x, 3)"
      ],
      "metadata": {
        "id": "kgGxqzGvdOas"
      },
      "id": "kgGxqzGvdOas",
      "execution_count": null,
      "outputs": []
    },
    {
      "cell_type": "code",
      "source": [
        "arc_length, x_coord, y_coord = x_y_coordinates(x_func, y_func, func_5,  np.linspace(1e-6, 5, steps))\n",
        "fig, ax = plt.subplots(1, 1, figsize=(10, 10))\n",
        "ax.plot(x_coord, y_coord, 'b')\n",
        "ax.set_aspect('equal')\n",
        "ax.grid()"
      ],
      "metadata": {
        "colab": {
          "base_uri": "https://localhost:8080/",
          "height": 216
        },
        "id": "36uQCYGddUOR",
        "outputId": "ce88276c-19de-4cb6-8598-81856864e62d"
      },
      "id": "36uQCYGddUOR",
      "execution_count": null,
      "outputs": [
        {
          "output_type": "display_data",
          "data": {
            "text/plain": [
              "<Figure size 720x720 with 1 Axes>"
            ],
            "image/png": "[encoded data removed]"
          },
          "metadata": {
            "needs_background": "light"
          }
        }
      ]
    },
    {
      "cell_type": "code",
      "source": [
        "k = spy.cosh(s) - 5.19\n",
        "spy.integrate(k, s)"
      ],
      "metadata": {
        "colab": {
          "base_uri": "https://localhost:8080/",
          "height": 39
        },
        "id": "8Diy13lndaxN",
        "outputId": "cb73b038-79c3-4e5d-92d8-f0636f4be7c6"
      },
      "id": "8Diy13lndaxN",
      "execution_count": null,
      "outputs": [
        {
          "output_type": "execute_result",
          "data": {
            "text/plain": [
              "-5.19*s + sinh(s)"
            ],
            "text/latex": "$\\displaystyle - 5.19 s + \\sinh{\\left(s \\right)}$"
          },
          "metadata": {},
          "execution_count": 33
        }
      ]
    },
    {
      "cell_type": "code",
      "source": [
        "def func_6(x):\n",
        "  return   np.sinh(x) - 5.19 * x"
      ],
      "metadata": {
        "id": "5DmfFA-KkmLa"
      },
      "id": "5DmfFA-KkmLa",
      "execution_count": null,
      "outputs": []
    },
    {
      "cell_type": "code",
      "source": [
        "arc_length, x_coord, y_coord = x_y_coordinates(x_func, y_func, func_6, np.linspace(1e-6, 10, steps))\n",
        "fig, ax = plt.subplots(1, 1, figsize=(10, 10))\n",
        "ax.plot(x_coord, y_coord, 'b')\n",
        "ax.set_aspect('equal')\n",
        "ax.grid()"
      ],
      "metadata": {
        "colab": {
          "base_uri": "https://localhost:8080/",
          "height": 184
        },
        "id": "ypTQfPyQku_9",
        "outputId": "2553f8d3-fa0b-4900-c9c6-8217feb5a69e"
      },
      "id": "ypTQfPyQku_9",
      "execution_count": null,
      "outputs": [
        {
          "output_type": "display_data",
          "data": {
            "text/plain": [
              "<Figure size 720x720 with 1 Axes>"
            ],
            "image/png": "[encoded data removed]"
          },
          "metadata": {
            "needs_background": "light"
          }
        }
      ]
    },
    {
      "cell_type": "code",
      "source": [
        ""
      ],
      "metadata": {
        "id": "pBr3V-gAQmHp"
      },
      "id": "pBr3V-gAQmHp",
      "execution_count": null,
      "outputs": []
    }
  ],
  "metadata": {
    "kernelspec": {
      "display_name": "Python 3 (ipykernel)",
      "language": "python",
      "name": "python3"
    },
    "language_info": {
      "codemirror_mode": {
        "name": "ipython",
        "version": 3
      },
      "file_extension": ".py",
      "mimetype": "text/x-python",
      "name": "python",
      "nbconvert_exporter": "python",
      "pygments_lexer": "ipython3",
      "version": "3.10.4"
    },
    "colab": {
      "name": "euler_curves.ipynb",
      "provenance": [],
      "collapsed_sections": [],
      "include_colab_link": true
    }
  },
  "nbformat": 4,
  "nbformat_minor": 5
}