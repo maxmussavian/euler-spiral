{
  "nbformat": 4,
  "nbformat_minor": 0,
  "metadata": {
    "colab": {
      "name": "acceleration_curves.ipynb",
      "provenance": [],
      "authorship_tag": "ABX9TyOJF21qxB4H2+tTjRZU0WWW",
      "include_colab_link": true
    },
    "kernelspec": {
      "name": "python3",
      "display_name": "Python 3"
    },
    "language_info": {
      "name": "python"
    }
  },
  "cells": [
    {
      "cell_type": "markdown",
      "metadata": {
        "id": "view-in-github",
        "colab_type": "text"
      },
      "source": [
        "<a href=\"https://colab.research.google.com/github/maxmussavian/euler-spiral/blob/main/acceleration_curves.ipynb\" target=\"_parent\"><img src=\"https://colab.research.google.com/assets/colab-badge.svg\" alt=\"Open In Colab\"/></a>"
      ]
    },
    {
      "cell_type": "code",
      "source": [
        "from matplotlib import pyplot as plt\n",
        "import numpy as np"
      ],
      "metadata": {
        "id": "0LZKAyaUesEC"
      },
      "execution_count": 168,
      "outputs": []
    },
    {
      "cell_type": "code",
      "execution_count": 169,
      "metadata": {
        "id": "Uz1qgSiYecup"
      },
      "outputs": [],
      "source": [
        "X = 1000. # length of segment\n",
        "v = 60 / 3.6 # 60 km /h into m /s \n",
        "T_segment = X / v # time for each segments\n",
        "time_step = 1 # how often to sample the steps"
      ]
    },
    {
      "cell_type": "code",
      "source": [
        "r = X / np.pi # radius of curve\n",
        "print(f'the radius of semicircle is {r:10.2f}m')"
      ],
      "metadata": {
        "colab": {
          "base_uri": "https://localhost:8080/"
        },
        "id": "JQ9tnyx_ennr",
        "outputId": "ffc3ed0b-505a-471f-a477-d71b3461ae55"
      },
      "execution_count": 170,
      "outputs": [
        {
          "output_type": "stream",
          "name": "stdout",
          "text": [
            "the radius of semicircle is     318.31m\n"
          ]
        }
      ]
    },
    {
      "cell_type": "code",
      "source": [
        "t_steps = np.arange(0, T_segment + time_step / 2, time_step) # times sampling"
      ],
      "metadata": {
        "id": "iPK8IYhYex8B"
      },
      "execution_count": 171,
      "outputs": []
    },
    {
      "cell_type": "markdown",
      "source": [
        "# Curve with Semicircles"
      ],
      "metadata": {
        "id": "GbKn4f31KGDc"
      }
    },
    {
      "cell_type": "markdown",
      "source": [
        "Part 1: First Straight"
      ],
      "metadata": {
        "id": "yI0tHF2YooVq"
      }
    },
    {
      "cell_type": "code",
      "source": [
        "x_first_straight = [t * v for t in t_steps]\n",
        "y_first_straight = [0 * t for t in t_steps]\n",
        "acceleration_first_straight   = [0 * t for t in t_steps]"
      ],
      "metadata": {
        "id": "MJyIBobEe-JV"
      },
      "execution_count": 172,
      "outputs": []
    },
    {
      "cell_type": "markdown",
      "source": [
        "Part 2: First Circular Bend"
      ],
      "metadata": {
        "id": "WmigK1puouoX"
      }
    },
    {
      "cell_type": "code",
      "source": [
        "x_first_bend = [X + r * np.sin(t * np.pi / T_segment) for t in t_steps]\n",
        "y_first_bend = [r * (1. - np.cos(t * np.pi / T_segment)) for t in t_steps]\n",
        "acceleration_first_bend = [1/r * v ** 2 for t in t_steps]"
      ],
      "metadata": {
        "id": "G-sbi3-6fiUW"
      },
      "execution_count": 173,
      "outputs": []
    },
    {
      "cell_type": "markdown",
      "source": [
        "Part 3: Second Straight"
      ],
      "metadata": {
        "id": "n90ogOdoo0eW"
      }
    },
    {
      "cell_type": "code",
      "source": [
        "x_second_straight = [X - t * v for t in t_steps]\n",
        "y_second_straight = [2 * r + 0 * t for t in t_steps]\n",
        "acceleration_second_straight   = [0 * t for t in t_steps]"
      ],
      "metadata": {
        "id": "B7mVB6rmo5R6"
      },
      "execution_count": 174,
      "outputs": []
    },
    {
      "cell_type": "markdown",
      "source": [
        "Part 4: Second Curve"
      ],
      "metadata": {
        "id": "uNrAMAn0pmDy"
      }
    },
    {
      "cell_type": "code",
      "source": [
        "x_second_bend = [-r * np.sin(t * np.pi / T_segment) for t in t_steps]\n",
        "y_second_bend = [r * (1 + np.cos(t * np.pi / T_segment)) for t in t_steps]\n",
        "acceleration_second_bend = [1/r * v ** 2 for t in t_steps]\n"
      ],
      "metadata": {
        "id": "a1vtu21hpqba"
      },
      "execution_count": 175,
      "outputs": []
    },
    {
      "cell_type": "code",
      "source": [
        "x_pos_sc = np.concatenate(\n",
        "    [x_first_straight, x_first_bend, x_second_straight, x_second_bend]\n",
        "    )\n",
        "y_pos_sc = np.concatenate(\n",
        "    [y_first_straight, y_first_bend, y_second_straight, y_second_bend]\n",
        "    )\n",
        "acceleration_sc = np.concatenate(\n",
        "    [acceleration_first_straight, acceleration_first_bend,\n",
        "     acceleration_second_straight, acceleration_second_bend\n",
        "     ])"
      ],
      "metadata": {
        "id": "mTkQb5Tdi8-N"
      },
      "execution_count": 176,
      "outputs": []
    },
    {
      "cell_type": "code",
      "source": [
        "fig, ax = plt.subplots(2, 1, figsize=(8, 8))\n",
        "ax[0].plot(x_pos_sc + r, y_pos_sc, '.-')\n",
        "ax[0].set_xlabel('Distance (m)')\n",
        "ax[0].set_ylabel('Distance (m)')\n",
        "ax[0].set_aspect('equal')\n",
        "ax[1].plot(acceleration_sc, '.')\n",
        "ax[1].set_xlabel('Time (s)')\n",
        "ax[1].set_ylabel(r'Acceleration $\\frac{m}{s^2}$')"
      ],
      "metadata": {
        "colab": {
          "base_uri": "https://localhost:8080/",
          "height": 502
        },
        "id": "FAeGAzaUjbCE",
        "outputId": "55c1033c-f799-4977-9156-c3ab9575de20"
      },
      "execution_count": 177,
      "outputs": [
        {
          "output_type": "execute_result",
          "data": {
            "text/plain": [
              "Text(0, 0.5, 'Acceleration $\\\\frac{m}{s^2}$')"
            ]
          },
          "metadata": {},
          "execution_count": 177
        },
        {
          "output_type": "display_data",
          "data": {
            "text/plain": [
              "<Figure size 576x576 with 2 Axes>"
            ],
            "image/png": "[encoded data removed]"
          },
          "metadata": {
            "needs_background": "light"
          }
        }
      ]
    },
    {
      "cell_type": "markdown",
      "source": [
        "# Curve with Euler Spiral"
      ],
      "metadata": {
        "id": "MB_0HyrIP9FU"
      }
    },
    {
      "cell_type": "code",
      "source": [
        "import scipy.special as sc\n",
        "S_1, C_1 = sc.fresnel(1)"
      ],
      "metadata": {
        "id": "d7m3ymwtji-O"
      },
      "execution_count": 178,
      "outputs": []
    },
    {
      "cell_type": "markdown",
      "source": [
        "Here we calculate the curvature for the track so that width matches the original width."
      ],
      "metadata": {
        "id": "mIE8RAPNbZef"
      }
    },
    {
      "cell_type": "code",
      "source": [
        "alpha = np.pi * S_1 ** 2 / r **2 "
      ],
      "metadata": {
        "id": "sBAxstRsIwd1"
      },
      "execution_count": 179,
      "outputs": []
    },
    {
      "cell_type": "code",
      "source": [
        "print(alpha)"
      ],
      "metadata": {
        "colab": {
          "base_uri": "https://localhost:8080/"
        },
        "id": "XWJrOdx3I6Ql",
        "outputId": "342dac5b-97bd-44f9-b90c-b4b76ffff071"
      },
      "execution_count": 180,
      "outputs": [
        {
          "output_type": "stream",
          "name": "stdout",
          "text": [
            "5.9554090571766435e-06\n"
          ]
        }
      ]
    },
    {
      "cell_type": "code",
      "source": [
        "width_curve = np.sqrt(np.pi / alpha) * C_1\n",
        "height_curve = np.sqrt(np.pi / alpha) * S_1"
      ],
      "metadata": {
        "id": "9jIAnO2kboiB"
      },
      "execution_count": 181,
      "outputs": []
    },
    {
      "cell_type": "markdown",
      "source": [
        "Part 1: First straight section"
      ],
      "metadata": {
        "id": "dE9aKiN_btaA"
      }
    },
    {
      "cell_type": "code",
      "source": [
        "X_short = X + 2 * r - 2 * width_curve \n",
        "T_straight_segment = X_short / v\n",
        "t_steps = np.arange(0, T_straight_segment + time_step / 2, time_step) # times sampling"
      ],
      "metadata": {
        "id": "8lsJyo0Tb0r6"
      },
      "execution_count": 182,
      "outputs": []
    },
    {
      "cell_type": "code",
      "source": [
        "x_first_straight = [t * v for t in t_steps]\n",
        "y_first_straight = [0 * t for t in t_steps]\n",
        "acceleration_first_straight = [0 * t for t in t_steps]"
      ],
      "metadata": {
        "id": "ThcyUaiieWVc"
      },
      "execution_count": 183,
      "outputs": []
    },
    {
      "cell_type": "markdown",
      "source": [
        "Part 2: First Curved Section"
      ],
      "metadata": {
        "id": "4w1WBDU2ecM9"
      }
    },
    {
      "cell_type": "code",
      "source": [
        "half_arc_length = np.sqrt(np.pi / alpha)\n",
        "print(f'arc length -> {2 * half_arc_length}')\n",
        "print(f'radius of circle at apex -> {1/(alpha * half_arc_length)}')"
      ],
      "metadata": {
        "colab": {
          "base_uri": "https://localhost:8080/"
        },
        "id": "UktNiXpXebcv",
        "outputId": "d5b2139c-87e8-4167-a230-393636fb47be"
      },
      "execution_count": 184,
      "outputs": [
        {
          "output_type": "stream",
          "name": "stdout",
          "text": [
            "arc length -> 1452.610347458528\n",
            "radius of circle at apex -> 231.19011718446035\n"
          ]
        }
      ]
    },
    {
      "cell_type": "code",
      "source": [
        "T_half_arc_length = half_arc_length / v\n",
        "print(f'time spent on curve -> {2 * T_half_arc_length:10.2f}s')\n",
        "t_steps = np.arange(0, T_half_arc_length + time_step / 2, time_step)"
      ],
      "metadata": {
        "colab": {
          "base_uri": "https://localhost:8080/"
        },
        "id": "EbEOvzHiI8fm",
        "outputId": "443b8188-fa9a-4a12-8037-379ae7147c5c"
      },
      "execution_count": 185,
      "outputs": [
        {
          "output_type": "stream",
          "name": "stdout",
          "text": [
            "time spent on curve ->      87.16s\n"
          ]
        }
      ]
    },
    {
      "cell_type": "code",
      "source": [
        "s_c_grid = np.asarray([sc.fresnel(t / T_half_arc_length) for t in t_steps])\n",
        "\n",
        "x_first_half_bend = np.array([np.sqrt(np.pi / alpha) * c + X_short for _, c in s_c_grid])\n",
        "x_first_bend = np.concatenate([x_first_half_bend, np.flip(x_first_half_bend)])\n"
      ],
      "metadata": {
        "id": "m49KhT65ga3v"
      },
      "execution_count": 186,
      "outputs": []
    },
    {
      "cell_type": "code",
      "source": [
        "y_first_half_bend = np.array([np.sqrt(np.pi / alpha) * s for s, _ in s_c_grid])\n",
        "y_first_bend = np.concatenate([y_first_half_bend, 2 * r - np.flip(y_first_half_bend)])\n"
      ],
      "metadata": {
        "id": "Lk1wYz2KKdep"
      },
      "execution_count": 187,
      "outputs": []
    },
    {
      "cell_type": "code",
      "source": [
        "acceleration_first_half_bend = np.array([alpha * v * t * v ** 2 for t in t_steps])\n",
        "acceleration_first_bend = np.concatenate([acceleration_first_half_bend, np.flip(acceleration_first_half_bend)])"
      ],
      "metadata": {
        "id": "XcGb90YWoISm"
      },
      "execution_count": 188,
      "outputs": []
    },
    {
      "cell_type": "markdown",
      "source": [
        "Part 3: Straight Sections"
      ],
      "metadata": {
        "id": "JcVeIFL0RJZT"
      }
    },
    {
      "cell_type": "code",
      "source": [
        "X_short = X + 2 * r - 2 * width_curve \n",
        "T_straight_segment = X_short / v\n",
        "t_steps = np.arange(0, T_straight_segment + time_step / 2, time_step) # times sampling"
      ],
      "metadata": {
        "id": "ry2xzrGERTEX"
      },
      "execution_count": 189,
      "outputs": []
    },
    {
      "cell_type": "code",
      "source": [
        "x_second_straight = [X_short - t * v for t in t_steps]\n",
        "y_second_straight = [2 *r - 0 * t for t in t_steps]\n",
        "acceleration_second_straight = [0 * t for t in t_steps]"
      ],
      "metadata": {
        "id": "P_kDCWhcRdVj"
      },
      "execution_count": 190,
      "outputs": []
    },
    {
      "cell_type": "markdown",
      "source": [
        "Part 4: Second Curved Section"
      ],
      "metadata": {
        "id": "WAICC3OvSljU"
      }
    },
    {
      "cell_type": "code",
      "source": [
        "t_steps = np.arange(0, T_half_arc_length + time_step / 2, time_step)\n",
        "\n",
        "s_c_grid = np.asarray([sc.fresnel(t / T_half_arc_length) for t in t_steps])\n",
        "\n",
        "x_second_half_bend = np.array([-np.sqrt(np.pi / alpha) * c for _, c in s_c_grid])\n",
        "x_second_bend = np.concatenate([x_second_half_bend, np.flip(x_second_half_bend)])\n",
        "\n",
        "y_second_half_bend = np.array([2 * r - np.sqrt(np.pi / alpha) * s for s, _ in s_c_grid])\n",
        "y_second_bend = np.concatenate([y_second_half_bend, 2 * r - np.flip(y_second_half_bend)])\n",
        "\n",
        "acceleration_second_half_bend = np.array([alpha * v * t * v ** 2 for t in t_steps])\n",
        "acceleration_second_bend = np.concatenate([acceleration_second_half_bend, np.flip(acceleration_second_half_bend)])"
      ],
      "metadata": {
        "id": "jGt8DHcRSs-q"
      },
      "execution_count": 191,
      "outputs": []
    },
    {
      "cell_type": "code",
      "source": [
        "x_pos_euler = np.concatenate(\n",
        "    [x_first_straight, x_first_bend, x_second_straight, x_second_bend]\n",
        "    )\n",
        "y_pos_euler = np.concatenate(\n",
        "    [y_first_straight, y_first_bend, y_second_straight, y_second_bend]\n",
        "    )\n",
        "acceleration_euler = np.concatenate(\n",
        "    [acceleration_first_straight, acceleration_first_bend,\n",
        "     acceleration_second_straight, acceleration_second_bend\n",
        "     ])"
      ],
      "metadata": {
        "id": "Ro6z0RTki3j6"
      },
      "execution_count": 192,
      "outputs": []
    },
    {
      "cell_type": "code",
      "source": [
        "fig, ax = plt.subplots(2, 1, figsize=(8, 8))\n",
        "ax[0].plot(x_pos_euler + width_curve, y_pos_euler, '.-')\n",
        "ax[0].set_aspect('equal')\n",
        "ax[0].set_xlabel('Distance (m)')\n",
        "ax[0].set_ylabel('Distance (m)')\n",
        "ax[1].plot(acceleration_euler, '.')\n",
        "ax[1].set_xlabel('Time (s)')\n",
        "ax[1].set_ylabel(r'Acceleration $\\frac{m}{s^2}$')\n",
        "ax[1].set"
      ],
      "metadata": {
        "colab": {
          "base_uri": "https://localhost:8080/",
          "height": 502
        },
        "id": "xYbg8xQDKjTO",
        "outputId": "706816d6-8f6a-4462-b956-6400bfa039e0"
      },
      "execution_count": 193,
      "outputs": [
        {
          "output_type": "execute_result",
          "data": {
            "text/plain": [
              "Text(0, 0.5, 'Acceleration $\\\\frac{m}{s^2}$')"
            ]
          },
          "metadata": {},
          "execution_count": 193
        },
        {
          "output_type": "display_data",
          "data": {
            "text/plain": [
              "<Figure size 576x576 with 2 Axes>"
            ],
            "image/png": "[encoded data removed]"
          },
          "metadata": {
            "needs_background": "light"
          }
        }
      ]
    },
    {
      "cell_type": "code",
      "source": [
        "total_arc_length = np.sqrt(np.pi / alpha)\n",
        "print(total_arc_length)\n",
        "print(1/(alpha * total_arc_length))"
      ],
      "metadata": {
        "colab": {
          "base_uri": "https://localhost:8080/"
        },
        "id": "pWxDxDoYK7J7",
        "outputId": "1e0bc0ca-9275-41fe-a77b-ca0cbc6912f4"
      },
      "execution_count": 194,
      "outputs": [
        {
          "output_type": "stream",
          "name": "stdout",
          "text": [
            "726.305173729264\n",
            "231.19011718446035\n"
          ]
        }
      ]
    },
    {
      "cell_type": "code",
      "source": [
        "total_arc_length * 4 - 2 * np.pi * r"
      ],
      "metadata": {
        "colab": {
          "base_uri": "https://localhost:8080/"
        },
        "id": "nWtztXNENBXk",
        "outputId": "250df068-a899-49d4-f8eb-f0caaecaf2d6"
      },
      "execution_count": 195,
      "outputs": [
        {
          "output_type": "execute_result",
          "data": {
            "text/plain": [
              "905.2206949170559"
            ]
          },
          "metadata": {},
          "execution_count": 195
        }
      ]
    },
    {
      "cell_type": "code",
      "source": [
        "2 * 504 + 4 * total_arc_length"
      ],
      "metadata": {
        "colab": {
          "base_uri": "https://localhost:8080/"
        },
        "id": "tcIn6WMGNZrb",
        "outputId": "aa681c22-33f2-4d3b-f55c-b70bdcfc05a6"
      },
      "execution_count": 196,
      "outputs": [
        {
          "output_type": "execute_result",
          "data": {
            "text/plain": [
              "3913.220694917056"
            ]
          },
          "metadata": {},
          "execution_count": 196
        }
      ]
    },
    {
      "cell_type": "markdown",
      "source": [
        "Comparing the tracks"
      ],
      "metadata": {
        "id": "2mCBRc1fUVuv"
      }
    },
    {
      "cell_type": "code",
      "source": [
        "fig, ax = plt.subplots(1, 1, figsize=(8, 8))\n",
        "ax.plot(x_pos_euler + width_curve, y_pos_euler, '-')\n",
        "ax.set_aspect('equal')\n",
        "ax.set_xlabel('Distance (m)')\n",
        "ax.set_ylabel('Distance (m)')\n",
        "\n",
        "ax.plot(x_pos_sc + r, y_pos_sc, '-')\n",
        "ax.set_aspect('equal')\n",
        "ax.set_xlabel('Distance (m)')\n",
        "ax.set_ylabel('Distance (m)')"
      ],
      "metadata": {
        "colab": {
          "base_uri": "https://localhost:8080/",
          "height": 254
        },
        "id": "PwhiWGsPUVMt",
        "outputId": "09700e5b-ccd8-478c-a3ab-0595f769706a"
      },
      "execution_count": 197,
      "outputs": [
        {
          "output_type": "execute_result",
          "data": {
            "text/plain": [
              "Text(0, 0.5, 'Distance (m)')"
            ]
          },
          "metadata": {},
          "execution_count": 197
        },
        {
          "output_type": "display_data",
          "data": {
            "text/plain": [
              "<Figure size 576x576 with 1 Axes>"
            ],
            "image/png": "[encoded data removed]"
          },
          "metadata": {
            "needs_background": "light"
          }
        }
      ]
    },
    {
      "cell_type": "code",
      "source": [
        "r"
      ],
      "metadata": {
        "colab": {
          "base_uri": "https://localhost:8080/"
        },
        "id": "-ia9mArtOTKA",
        "outputId": "b32982c6-5748-4dae-df71-fae125582802"
      },
      "execution_count": 198,
      "outputs": [
        {
          "output_type": "execute_result",
          "data": {
            "text/plain": [
              "318.3098861837907"
            ]
          },
          "metadata": {},
          "execution_count": 198
        }
      ]
    },
    {
      "cell_type": "code",
      "source": [
        "504/ (16/3.6)"
      ],
      "metadata": {
        "colab": {
          "base_uri": "https://localhost:8080/"
        },
        "id": "szk6w7c_OY9t",
        "outputId": "998a32ab-cdfb-4d55-eb32-efb0ef057f60"
      },
      "execution_count": 199,
      "outputs": [
        {
          "output_type": "execute_result",
          "data": {
            "text/plain": [
              "113.39999999999999"
            ]
          },
          "metadata": {},
          "execution_count": 199
        }
      ]
    },
    {
      "cell_type": "code",
      "source": [
        ""
      ],
      "metadata": {
        "id": "KF5zLYpWX-nc"
      },
      "execution_count": 199,
      "outputs": []
    }
  ]
}