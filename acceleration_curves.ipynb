{
  "nbformat": 4,
  "nbformat_minor": 0,
  "metadata": {
    "colab": {
      "name": "acceleration_curves.ipynb",
      "provenance": [],
      "authorship_tag": "ABX9TyN+Ev+f5kJ1nGI5k3DL5Wv9",
      "include_colab_link": true
    },
    "kernelspec": {
      "name": "python3",
      "display_name": "Python 3"
    },
    "language_info": {
      "name": "python"
    }
  },
  "cells": [
    {
      "cell_type": "markdown",
      "metadata": {
        "id": "view-in-github",
        "colab_type": "text"
      },
      "source": [
        "<a href=\"https://colab.research.google.com/github/maxmussavian/euler-spiral/blob/main/acceleration_curves.ipynb\" target=\"_parent\"><img src=\"https://colab.research.google.com/assets/colab-badge.svg\" alt=\"Open In Colab\"/></a>"
      ]
    },
    {
      "cell_type": "code",
      "source": [
        "from matplotlib import pyplot as plt\n",
        "import numpy as np"
      ],
      "metadata": {
        "id": "0LZKAyaUesEC"
      },
      "execution_count": null,
      "outputs": []
    },
    {
      "cell_type": "code",
      "execution_count": null,
      "metadata": {
        "id": "Uz1qgSiYecup"
      },
      "outputs": [],
      "source": [
        "X = 1000. # length of segment\n",
        "v = 60 / 3.6 # 60 km /h into m /s \n",
        "T_segment = X / v # time for each segments\n",
        "time_step = 1 # how often to sample the steps"
      ]
    },
    {
      "cell_type": "code",
      "source": [
        "r = X / np.pi # radius of curve\n",
        "print(r)"
      ],
      "metadata": {
        "colab": {
          "base_uri": "https://localhost:8080/"
        },
        "id": "JQ9tnyx_ennr",
        "outputId": "21c31fb0-b77f-4d59-d303-a04606e546fb"
      },
      "execution_count": null,
      "outputs": [
        {
          "output_type": "stream",
          "name": "stdout",
          "text": [
            "318.3098861837907\n"
          ]
        }
      ]
    },
    {
      "cell_type": "code",
      "source": [
        "t_steps = np.arange(0, T_segment + time_step / 2, time_step) # times sampling\n",
        "print(t_steps)"
      ],
      "metadata": {
        "colab": {
          "base_uri": "https://localhost:8080/"
        },
        "id": "iPK8IYhYex8B",
        "outputId": "d54b961b-225d-42c6-a0af-e0471aa68538"
      },
      "execution_count": null,
      "outputs": [
        {
          "output_type": "stream",
          "name": "stdout",
          "text": [
            "[ 0.  1.  2.  3.  4.  5.  6.  7.  8.  9. 10. 11. 12. 13. 14. 15. 16. 17.\n",
            " 18. 19. 20. 21. 22. 23. 24. 25. 26. 27. 28. 29. 30. 31. 32. 33. 34. 35.\n",
            " 36. 37. 38. 39. 40. 41. 42. 43. 44. 45. 46. 47. 48. 49. 50. 51. 52. 53.\n",
            " 54. 55. 56. 57. 58. 59. 60.]\n"
          ]
        }
      ]
    },
    {
      "cell_type": "markdown",
      "source": [
        "Part 1: First Straight"
      ],
      "metadata": {
        "id": "yI0tHF2YooVq"
      }
    },
    {
      "cell_type": "code",
      "source": [
        "x_first_straight = [t * v for t in t_steps]\n",
        "y_first_straight = [0 * t for t in t_steps]\n",
        "acceleration_first_straight   = [0 * t for t in t_steps]"
      ],
      "metadata": {
        "id": "MJyIBobEe-JV"
      },
      "execution_count": null,
      "outputs": []
    },
    {
      "cell_type": "markdown",
      "source": [
        "Part 2: First Circular Bend"
      ],
      "metadata": {
        "id": "WmigK1puouoX"
      }
    },
    {
      "cell_type": "code",
      "source": [
        "x_first_bend = [X + r * np.sin(t * np.pi / T_segment) for t in t_steps]\n",
        "y_first_bend = [r * (1. - np.cos(t * np.pi / T_segment)) for t in t_steps]\n",
        "acceleration_first_bend = [1/r * v ** 2 for t in t_steps]"
      ],
      "metadata": {
        "id": "G-sbi3-6fiUW"
      },
      "execution_count": null,
      "outputs": []
    },
    {
      "cell_type": "markdown",
      "source": [
        "Part 3: Second Straight"
      ],
      "metadata": {
        "id": "n90ogOdoo0eW"
      }
    },
    {
      "cell_type": "code",
      "source": [
        "x_second_straight = [X - t * v for t in t_steps]\n",
        "y_second_straight = [2 * r + 0 * t for t in t_steps]\n",
        "acceleration_second_straight   = [0 * t for t in t_steps]"
      ],
      "metadata": {
        "id": "B7mVB6rmo5R6"
      },
      "execution_count": null,
      "outputs": []
    },
    {
      "cell_type": "markdown",
      "source": [
        "Part 4: Second Curve"
      ],
      "metadata": {
        "id": "uNrAMAn0pmDy"
      }
    },
    {
      "cell_type": "code",
      "source": [
        "x_second_bend = [-r * np.sin(t * np.pi / T_segment) for t in t_steps]\n",
        "y_second_bend = [r * (1 + np.cos(t * np.pi / T_segment)) for t in t_steps]\n",
        "acceleration_second_bend = [1/r * v ** 2 for t in t_steps]\n"
      ],
      "metadata": {
        "id": "a1vtu21hpqba"
      },
      "execution_count": null,
      "outputs": []
    },
    {
      "cell_type": "code",
      "source": [
        "x_pos_all = np.concatenate(\n",
        "    [x_first_straight, x_first_bend, x_second_straight, x_second_bend]\n",
        "    )\n",
        "y_pos_all = np.concatenate(\n",
        "    [y_first_straight, y_first_bend, y_second_straight, y_second_bend]\n",
        "    )\n",
        "acceleration_all = np.concatenate(\n",
        "    [acceleration_first_straight, acceleration_first_bend,\n",
        "     acceleration_second_straight, acceleration_second_bend\n",
        "     ])"
      ],
      "metadata": {
        "id": "mTkQb5Tdi8-N"
      },
      "execution_count": null,
      "outputs": []
    },
    {
      "cell_type": "code",
      "source": [
        "fig, ax = plt.subplots(2, 1, figsize=(10, 10))\n",
        "ax[0].plot(x_pos_all, y_pos_all, '.-')\n",
        "ax[0].set_aspect('equal')\n",
        "ax[1].plot(acceleration_all, '.')"
      ],
      "metadata": {
        "colab": {
          "base_uri": "https://localhost:8080/",
          "height": 594
        },
        "id": "FAeGAzaUjbCE",
        "outputId": "c0d7623f-dc10-4812-ce93-efb22e31ba03"
      },
      "execution_count": null,
      "outputs": [
        {
          "output_type": "execute_result",
          "data": {
            "text/plain": [
              "[<matplotlib.lines.Line2D at 0x7f7fbe9155d0>]"
            ]
          },
          "metadata": {},
          "execution_count": 356
        },
        {
          "output_type": "display_data",
          "data": {
            "text/plain": [
              "<Figure size 720x720 with 2 Axes>"
            ],
            "image/png": "[encoded data removed]"
          },
          "metadata": {
            "needs_background": "light"
          }
        }
      ]
    },
    {
      "cell_type": "code",
      "source": [
        "import scipy.special as sc\n",
        "S_1, C_1 = sc.fresnel(1)"
      ],
      "metadata": {
        "id": "d7m3ymwtji-O"
      },
      "execution_count": null,
      "outputs": []
    },
    {
      "cell_type": "markdown",
      "source": [
        "Here we calculate the curvature for the track so that width matches the original width."
      ],
      "metadata": {
        "id": "mIE8RAPNbZef"
      }
    },
    {
      "cell_type": "code",
      "source": [
        "alpha = np.pi * S_1 ** 2 / r **2 "
      ],
      "metadata": {
        "id": "sBAxstRsIwd1"
      },
      "execution_count": null,
      "outputs": []
    },
    {
      "cell_type": "code",
      "source": [
        "print(alpha)"
      ],
      "metadata": {
        "colab": {
          "base_uri": "https://localhost:8080/"
        },
        "id": "XWJrOdx3I6Ql",
        "outputId": "e33e52a2-cc16-4e62-efbc-a4b4df28bed1"
      },
      "execution_count": null,
      "outputs": [
        {
          "output_type": "stream",
          "name": "stdout",
          "text": [
            "5.9554090571766435e-06\n"
          ]
        }
      ]
    },
    {
      "cell_type": "code",
      "source": [
        "width_curve = np.sqrt(np.pi / alpha) * C_1\n",
        "height_curve = np.sqrt(np.pi / alpha) * S_1"
      ],
      "metadata": {
        "id": "9jIAnO2kboiB"
      },
      "execution_count": null,
      "outputs": []
    },
    {
      "cell_type": "markdown",
      "source": [
        "Part 1: First straight section"
      ],
      "metadata": {
        "id": "dE9aKiN_btaA"
      }
    },
    {
      "cell_type": "code",
      "source": [
        "X_short = X + 2 * r - 2 * width_curve \n",
        "T_straight_segment = X_short / v\n",
        "t_steps = np.arange(0, T_straight_segment + time_step / 2, time_step) # times sampling\n",
        "print(T_straight_segment)\n",
        "print(t_steps)"
      ],
      "metadata": {
        "colab": {
          "base_uri": "https://localhost:8080/"
        },
        "id": "8lsJyo0Tb0r6",
        "outputId": "adbee56f-226c-4470-a9f0-5cfa0d1075ad"
      },
      "execution_count": null,
      "outputs": [
        {
          "output_type": "stream",
          "name": "stdout",
          "text": [
            "30.224312943935505\n",
            "[ 0.  1.  2.  3.  4.  5.  6.  7.  8.  9. 10. 11. 12. 13. 14. 15. 16. 17.\n",
            " 18. 19. 20. 21. 22. 23. 24. 25. 26. 27. 28. 29. 30.]\n"
          ]
        }
      ]
    },
    {
      "cell_type": "code",
      "source": [
        "x_first_straight = [t * v for t in t_steps]\n",
        "y_first_straight = [0 * t for t in t_steps]\n",
        "acceleration_first_straight   = [0 * t for t in t_steps]"
      ],
      "metadata": {
        "id": "ThcyUaiieWVc"
      },
      "execution_count": null,
      "outputs": []
    },
    {
      "cell_type": "markdown",
      "source": [
        "Part 2: First Curved Section"
      ],
      "metadata": {
        "id": "4w1WBDU2ecM9"
      }
    },
    {
      "cell_type": "code",
      "source": [
        "half_arc_length = np.sqrt(np.pi / alpha)\n",
        "print(f'arc length -> {2 * half_arc_length}')\n",
        "print(f'radius of circle at apex -> {1/(alpha * half_arc_length)}')"
      ],
      "metadata": {
        "colab": {
          "base_uri": "https://localhost:8080/"
        },
        "id": "UktNiXpXebcv",
        "outputId": "6485148c-65af-4950-fa12-2f9622135508"
      },
      "execution_count": null,
      "outputs": [
        {
          "output_type": "stream",
          "name": "stdout",
          "text": [
            "arc length -> 1452.610347458528\n",
            "radius of circle at apex -> 231.19011718446035\n"
          ]
        }
      ]
    },
    {
      "cell_type": "code",
      "source": [
        "T_half_arc_length = half_arc_length / v\n",
        "print(f'time spent on curve -> {2 * T_half_arc_length}')\n",
        "t_steps = np.arange(0, T_half_arc_length + time_step / 2, time_step)\n",
        "print(t_steps)"
      ],
      "metadata": {
        "colab": {
          "base_uri": "https://localhost:8080/"
        },
        "id": "EbEOvzHiI8fm",
        "outputId": "751d8d2c-d61d-429a-cb9a-eb715ef5235a"
      },
      "execution_count": null,
      "outputs": [
        {
          "output_type": "stream",
          "name": "stdout",
          "text": [
            "time spent on curve -> 87.15662084751168\n",
            "[ 0.  1.  2.  3.  4.  5.  6.  7.  8.  9. 10. 11. 12. 13. 14. 15. 16. 17.\n",
            " 18. 19. 20. 21. 22. 23. 24. 25. 26. 27. 28. 29. 30. 31. 32. 33. 34. 35.\n",
            " 36. 37. 38. 39. 40. 41. 42. 43. 44.]\n"
          ]
        }
      ]
    },
    {
      "cell_type": "code",
      "source": [
        "s_c_grid = np.asarray([sc.fresnel(t / T_half_arc_length) for t in t_steps])\n",
        "\n",
        "x_first_half_bend = np.array([np.sqrt(np.pi / alpha) * c + X_short for _, c in s_c_grid])\n",
        "x_first_bend = np.concatenate([x_first_half_bend, np.flip(x_first_half_bend)])\n"
      ],
      "metadata": {
        "id": "m49KhT65ga3v"
      },
      "execution_count": null,
      "outputs": []
    },
    {
      "cell_type": "code",
      "source": [
        "y_first_half_bend = np.array([np.sqrt(np.pi / alpha) * s for s, _ in s_c_grid])\n",
        "y_first_bend = np.concatenate([y_first_half_bend, 2 * r - np.flip(y_first_half_bend)])\n"
      ],
      "metadata": {
        "id": "Lk1wYz2KKdep"
      },
      "execution_count": null,
      "outputs": []
    },
    {
      "cell_type": "code",
      "source": [
        "acceleration_first_half_bend = np.array([alpha * v * t * v ** 2 for t in t_steps])\n",
        "acceleration_first_bend = np.concatenate([acceleration_first_half_bend, np.flip(acceleration_first_half_bend)])\n",
        "print(acceleration_first_bend)"
      ],
      "metadata": {
        "colab": {
          "base_uri": "https://localhost:8080/"
        },
        "id": "XcGb90YWoISm",
        "outputId": "1af43193-fcf4-4bf5-aca9-a45f6d8c8d82"
      },
      "execution_count": null,
      "outputs": [
        {
          "output_type": "stream",
          "name": "stdout",
          "text": [
            "[0.         0.02757134 0.05514268 0.08271401 0.11028535 0.13785669\n",
            " 0.16542803 0.19299937 0.22057071 0.24814204 0.27571338 0.30328472\n",
            " 0.33085606 0.3584274  0.38599874 0.41357007 0.44114141 0.46871275\n",
            " 0.49628409 0.52385543 0.55142676 0.5789981  0.60656944 0.63414078\n",
            " 0.66171212 0.68928346 0.71685479 0.74442613 0.77199747 0.79956881\n",
            " 0.82714015 0.85471149 0.88228282 0.90985416 0.9374255  0.96499684\n",
            " 0.99256818 1.02013951 1.04771085 1.07528219 1.10285353 1.13042487\n",
            " 1.15799621 1.18556754 1.21313888 1.21313888 1.18556754 1.15799621\n",
            " 1.13042487 1.10285353 1.07528219 1.04771085 1.02013951 0.99256818\n",
            " 0.96499684 0.9374255  0.90985416 0.88228282 0.85471149 0.82714015\n",
            " 0.79956881 0.77199747 0.74442613 0.71685479 0.68928346 0.66171212\n",
            " 0.63414078 0.60656944 0.5789981  0.55142676 0.52385543 0.49628409\n",
            " 0.46871275 0.44114141 0.41357007 0.38599874 0.3584274  0.33085606\n",
            " 0.30328472 0.27571338 0.24814204 0.22057071 0.19299937 0.16542803\n",
            " 0.13785669 0.11028535 0.08271401 0.05514268 0.02757134 0.        ]\n"
          ]
        }
      ]
    },
    {
      "cell_type": "code",
      "source": [
        "x_pos_all = np.concatenate(\n",
        "    [x_first_straight, x_first_bend]\n",
        "    )\n",
        "y_pos_all = np.concatenate(\n",
        "    [y_first_straight, y_first_bend]\n",
        "    )\n",
        "acceleration_all = np.concatenate(\n",
        "    [acceleration_first_straight, acceleration_first_bend,\n",
        "     acceleration_second_straight, acceleration_second_bend\n",
        "     ])"
      ],
      "metadata": {
        "id": "Ro6z0RTki3j6"
      },
      "execution_count": null,
      "outputs": []
    },
    {
      "cell_type": "code",
      "source": [
        "fig, ax = plt.subplots(2, 1, figsize=(10, 10))\n",
        "ax[0].plot(x_pos_all, y_pos_all, '.-')\n",
        "ax[0].set_aspect('equal')\n",
        "ax[1].plot(acceleration_all, '.')"
      ],
      "metadata": {
        "colab": {
          "base_uri": "https://localhost:8080/",
          "height": 610
        },
        "id": "xYbg8xQDKjTO",
        "outputId": "fdc70063-ef32-443c-fb7b-56724b6fc895"
      },
      "execution_count": null,
      "outputs": [
        {
          "output_type": "execute_result",
          "data": {
            "text/plain": [
              "[<matplotlib.lines.Line2D at 0x7f7fbe690490>]"
            ]
          },
          "metadata": {},
          "execution_count": 380
        },
        {
          "output_type": "display_data",
          "data": {
            "text/plain": [
              "<Figure size 720x720 with 2 Axes>"
            ],
            "image/png": "[encoded data removed]"
          },
          "metadata": {
            "needs_background": "light"
          }
        }
      ]
    },
    {
      "cell_type": "code",
      "source": [
        "total_arc_length = np.sqrt(np.pi / alpha)\n",
        "print(total_arc_length)\n",
        "print(1/(alpha * total_arc_length))"
      ],
      "metadata": {
        "colab": {
          "base_uri": "https://localhost:8080/"
        },
        "id": "pWxDxDoYK7J7",
        "outputId": "c638aa57-6806-477b-96b4-52b10f94746e"
      },
      "execution_count": null,
      "outputs": [
        {
          "output_type": "stream",
          "name": "stdout",
          "text": [
            "726.305173729264\n",
            "231.19011718446035\n"
          ]
        }
      ]
    },
    {
      "cell_type": "code",
      "source": [
        "total_arc_length * 4 - 2 * np.pi * r"
      ],
      "metadata": {
        "colab": {
          "base_uri": "https://localhost:8080/"
        },
        "id": "nWtztXNENBXk",
        "outputId": "62a0e55d-5635-4bfb-ac33-5b963b4eec79"
      },
      "execution_count": null,
      "outputs": [
        {
          "output_type": "execute_result",
          "data": {
            "text/plain": [
              "905.2206949170559"
            ]
          },
          "metadata": {},
          "execution_count": 216
        }
      ]
    },
    {
      "cell_type": "code",
      "source": [
        "2 * 504 + 4 * total_arc_length"
      ],
      "metadata": {
        "colab": {
          "base_uri": "https://localhost:8080/"
        },
        "id": "tcIn6WMGNZrb",
        "outputId": "47e998ae-1e12-40a0-8ce0-6182eccdbbad"
      },
      "execution_count": null,
      "outputs": [
        {
          "output_type": "execute_result",
          "data": {
            "text/plain": [
              "3913.220694917056"
            ]
          },
          "metadata": {},
          "execution_count": 218
        }
      ]
    },
    {
      "cell_type": "code",
      "source": [
        "r"
      ],
      "metadata": {
        "colab": {
          "base_uri": "https://localhost:8080/"
        },
        "id": "-ia9mArtOTKA",
        "outputId": "4fdce214-203e-4be9-dc13-739266228027"
      },
      "execution_count": null,
      "outputs": [
        {
          "output_type": "execute_result",
          "data": {
            "text/plain": [
              "318.3098861837907"
            ]
          },
          "metadata": {},
          "execution_count": 211
        }
      ]
    },
    {
      "cell_type": "code",
      "source": [
        "504/ (16/3.6)"
      ],
      "metadata": {
        "colab": {
          "base_uri": "https://localhost:8080/"
        },
        "id": "szk6w7c_OY9t",
        "outputId": "7902ca8b-6101-428a-95db-98e5ea67a123"
      },
      "execution_count": null,
      "outputs": [
        {
          "output_type": "execute_result",
          "data": {
            "text/plain": [
              "113.39999999999999"
            ]
          },
          "metadata": {},
          "execution_count": 219
        }
      ]
    },
    {
      "cell_type": "code",
      "source": [
        ""
      ],
      "metadata": {
        "id": "KF5zLYpWX-nc"
      },
      "execution_count": null,
      "outputs": []
    }
  ]
}